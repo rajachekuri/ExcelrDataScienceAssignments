{
  "nbformat": 4,
  "nbformat_minor": 0,
  "metadata": {
    "colab": {
      "provenance": []
    },
    "kernelspec": {
      "name": "python3",
      "display_name": "Python 3"
    },
    "language_info": {
      "name": "python"
    }
  },
  "cells": [
    {
      "cell_type": "code",
      "execution_count": 1,
      "metadata": {
        "id": "NLUXtsevIap2"
      },
      "outputs": [],
      "source": [
        "import numpy as np\n",
        "import pandas as pd\n",
        "import matplotlib.pyplot as plt\n",
        "%matplotlib inline\n",
        "import seaborn as sns\n",
        "\n",
        "from sklearn.model_selection import train_test_split\n",
        "from sklearn.preprocessing import StandardScaler\n",
        "from keras.models import Sequential\n",
        "from keras.layers import Dense"
      ]
    },
    {
      "cell_type": "code",
      "source": [
        "forest = pd.read_csv(\"/content/forestfires.csv\")\n",
        "forest.head()"
      ],
      "metadata": {
        "colab": {
          "base_uri": "https://localhost:8080/",
          "height": 300
        },
        "id": "1tZqmtyMN1B3",
        "outputId": "bee15fe4-6df3-43ed-d267-056be2538e35"
      },
      "execution_count": 2,
      "outputs": [
        {
          "output_type": "execute_result",
          "data": {
            "text/plain": [
              "  month  day  FFMC   DMC     DC  ISI  temp  RH  wind  rain  ...  monthfeb  \\\n",
              "0   mar  fri  86.2  26.2   94.3  5.1   8.2  51   6.7   0.0  ...         0   \n",
              "1   oct  tue  90.6  35.4  669.1  6.7  18.0  33   0.9   0.0  ...         0   \n",
              "2   oct  sat  90.6  43.7  686.9  6.7  14.6  33   1.3   0.0  ...         0   \n",
              "3   mar  fri  91.7  33.3   77.5  9.0   8.3  97   4.0   0.2  ...         0   \n",
              "4   mar  sun  89.3  51.3  102.2  9.6  11.4  99   1.8   0.0  ...         0   \n",
              "\n",
              "   monthjan  monthjul  monthjun  monthmar  monthmay  monthnov  monthoct  \\\n",
              "0         0         0         0         1         0         0         0   \n",
              "1         0         0         0         0         0         0         1   \n",
              "2         0         0         0         0         0         0         1   \n",
              "3         0         0         0         1         0         0         0   \n",
              "4         0         0         0         1         0         0         0   \n",
              "\n",
              "   monthsep  size_category  \n",
              "0         0          small  \n",
              "1         0          small  \n",
              "2         0          small  \n",
              "3         0          small  \n",
              "4         0          small  \n",
              "\n",
              "[5 rows x 31 columns]"
            ],
            "text/html": [
              "\n",
              "  <div id=\"df-4dc1dbd9-5711-4f06-8abe-c854b98f4048\">\n",
              "    <div class=\"colab-df-container\">\n",
              "      <div>\n",
              "<style scoped>\n",
              "    .dataframe tbody tr th:only-of-type {\n",
              "        vertical-align: middle;\n",
              "    }\n",
              "\n",
              "    .dataframe tbody tr th {\n",
              "        vertical-align: top;\n",
              "    }\n",
              "\n",
              "    .dataframe thead th {\n",
              "        text-align: right;\n",
              "    }\n",
              "</style>\n",
              "<table border=\"1\" class=\"dataframe\">\n",
              "  <thead>\n",
              "    <tr style=\"text-align: right;\">\n",
              "      <th></th>\n",
              "      <th>month</th>\n",
              "      <th>day</th>\n",
              "      <th>FFMC</th>\n",
              "      <th>DMC</th>\n",
              "      <th>DC</th>\n",
              "      <th>ISI</th>\n",
              "      <th>temp</th>\n",
              "      <th>RH</th>\n",
              "      <th>wind</th>\n",
              "      <th>rain</th>\n",
              "      <th>...</th>\n",
              "      <th>monthfeb</th>\n",
              "      <th>monthjan</th>\n",
              "      <th>monthjul</th>\n",
              "      <th>monthjun</th>\n",
              "      <th>monthmar</th>\n",
              "      <th>monthmay</th>\n",
              "      <th>monthnov</th>\n",
              "      <th>monthoct</th>\n",
              "      <th>monthsep</th>\n",
              "      <th>size_category</th>\n",
              "    </tr>\n",
              "  </thead>\n",
              "  <tbody>\n",
              "    <tr>\n",
              "      <th>0</th>\n",
              "      <td>mar</td>\n",
              "      <td>fri</td>\n",
              "      <td>86.2</td>\n",
              "      <td>26.2</td>\n",
              "      <td>94.3</td>\n",
              "      <td>5.1</td>\n",
              "      <td>8.2</td>\n",
              "      <td>51</td>\n",
              "      <td>6.7</td>\n",
              "      <td>0.0</td>\n",
              "      <td>...</td>\n",
              "      <td>0</td>\n",
              "      <td>0</td>\n",
              "      <td>0</td>\n",
              "      <td>0</td>\n",
              "      <td>1</td>\n",
              "      <td>0</td>\n",
              "      <td>0</td>\n",
              "      <td>0</td>\n",
              "      <td>0</td>\n",
              "      <td>small</td>\n",
              "    </tr>\n",
              "    <tr>\n",
              "      <th>1</th>\n",
              "      <td>oct</td>\n",
              "      <td>tue</td>\n",
              "      <td>90.6</td>\n",
              "      <td>35.4</td>\n",
              "      <td>669.1</td>\n",
              "      <td>6.7</td>\n",
              "      <td>18.0</td>\n",
              "      <td>33</td>\n",
              "      <td>0.9</td>\n",
              "      <td>0.0</td>\n",
              "      <td>...</td>\n",
              "      <td>0</td>\n",
              "      <td>0</td>\n",
              "      <td>0</td>\n",
              "      <td>0</td>\n",
              "      <td>0</td>\n",
              "      <td>0</td>\n",
              "      <td>0</td>\n",
              "      <td>1</td>\n",
              "      <td>0</td>\n",
              "      <td>small</td>\n",
              "    </tr>\n",
              "    <tr>\n",
              "      <th>2</th>\n",
              "      <td>oct</td>\n",
              "      <td>sat</td>\n",
              "      <td>90.6</td>\n",
              "      <td>43.7</td>\n",
              "      <td>686.9</td>\n",
              "      <td>6.7</td>\n",
              "      <td>14.6</td>\n",
              "      <td>33</td>\n",
              "      <td>1.3</td>\n",
              "      <td>0.0</td>\n",
              "      <td>...</td>\n",
              "      <td>0</td>\n",
              "      <td>0</td>\n",
              "      <td>0</td>\n",
              "      <td>0</td>\n",
              "      <td>0</td>\n",
              "      <td>0</td>\n",
              "      <td>0</td>\n",
              "      <td>1</td>\n",
              "      <td>0</td>\n",
              "      <td>small</td>\n",
              "    </tr>\n",
              "    <tr>\n",
              "      <th>3</th>\n",
              "      <td>mar</td>\n",
              "      <td>fri</td>\n",
              "      <td>91.7</td>\n",
              "      <td>33.3</td>\n",
              "      <td>77.5</td>\n",
              "      <td>9.0</td>\n",
              "      <td>8.3</td>\n",
              "      <td>97</td>\n",
              "      <td>4.0</td>\n",
              "      <td>0.2</td>\n",
              "      <td>...</td>\n",
              "      <td>0</td>\n",
              "      <td>0</td>\n",
              "      <td>0</td>\n",
              "      <td>0</td>\n",
              "      <td>1</td>\n",
              "      <td>0</td>\n",
              "      <td>0</td>\n",
              "      <td>0</td>\n",
              "      <td>0</td>\n",
              "      <td>small</td>\n",
              "    </tr>\n",
              "    <tr>\n",
              "      <th>4</th>\n",
              "      <td>mar</td>\n",
              "      <td>sun</td>\n",
              "      <td>89.3</td>\n",
              "      <td>51.3</td>\n",
              "      <td>102.2</td>\n",
              "      <td>9.6</td>\n",
              "      <td>11.4</td>\n",
              "      <td>99</td>\n",
              "      <td>1.8</td>\n",
              "      <td>0.0</td>\n",
              "      <td>...</td>\n",
              "      <td>0</td>\n",
              "      <td>0</td>\n",
              "      <td>0</td>\n",
              "      <td>0</td>\n",
              "      <td>1</td>\n",
              "      <td>0</td>\n",
              "      <td>0</td>\n",
              "      <td>0</td>\n",
              "      <td>0</td>\n",
              "      <td>small</td>\n",
              "    </tr>\n",
              "  </tbody>\n",
              "</table>\n",
              "<p>5 rows × 31 columns</p>\n",
              "</div>\n",
              "      <button class=\"colab-df-convert\" onclick=\"convertToInteractive('df-4dc1dbd9-5711-4f06-8abe-c854b98f4048')\"\n",
              "              title=\"Convert this dataframe to an interactive table.\"\n",
              "              style=\"display:none;\">\n",
              "        \n",
              "  <svg xmlns=\"http://www.w3.org/2000/svg\" height=\"24px\"viewBox=\"0 0 24 24\"\n",
              "       width=\"24px\">\n",
              "    <path d=\"M0 0h24v24H0V0z\" fill=\"none\"/>\n",
              "    <path d=\"M18.56 5.44l.94 2.06.94-2.06 2.06-.94-2.06-.94-.94-2.06-.94 2.06-2.06.94zm-11 1L8.5 8.5l.94-2.06 2.06-.94-2.06-.94L8.5 2.5l-.94 2.06-2.06.94zm10 10l.94 2.06.94-2.06 2.06-.94-2.06-.94-.94-2.06-.94 2.06-2.06.94z\"/><path d=\"M17.41 7.96l-1.37-1.37c-.4-.4-.92-.59-1.43-.59-.52 0-1.04.2-1.43.59L10.3 9.45l-7.72 7.72c-.78.78-.78 2.05 0 2.83L4 21.41c.39.39.9.59 1.41.59.51 0 1.02-.2 1.41-.59l7.78-7.78 2.81-2.81c.8-.78.8-2.07 0-2.86zM5.41 20L4 18.59l7.72-7.72 1.47 1.35L5.41 20z\"/>\n",
              "  </svg>\n",
              "      </button>\n",
              "      \n",
              "  <style>\n",
              "    .colab-df-container {\n",
              "      display:flex;\n",
              "      flex-wrap:wrap;\n",
              "      gap: 12px;\n",
              "    }\n",
              "\n",
              "    .colab-df-convert {\n",
              "      background-color: #E8F0FE;\n",
              "      border: none;\n",
              "      border-radius: 50%;\n",
              "      cursor: pointer;\n",
              "      display: none;\n",
              "      fill: #1967D2;\n",
              "      height: 32px;\n",
              "      padding: 0 0 0 0;\n",
              "      width: 32px;\n",
              "    }\n",
              "\n",
              "    .colab-df-convert:hover {\n",
              "      background-color: #E2EBFA;\n",
              "      box-shadow: 0px 1px 2px rgba(60, 64, 67, 0.3), 0px 1px 3px 1px rgba(60, 64, 67, 0.15);\n",
              "      fill: #174EA6;\n",
              "    }\n",
              "\n",
              "    [theme=dark] .colab-df-convert {\n",
              "      background-color: #3B4455;\n",
              "      fill: #D2E3FC;\n",
              "    }\n",
              "\n",
              "    [theme=dark] .colab-df-convert:hover {\n",
              "      background-color: #434B5C;\n",
              "      box-shadow: 0px 1px 3px 1px rgba(0, 0, 0, 0.15);\n",
              "      filter: drop-shadow(0px 1px 2px rgba(0, 0, 0, 0.3));\n",
              "      fill: #FFFFFF;\n",
              "    }\n",
              "  </style>\n",
              "\n",
              "      <script>\n",
              "        const buttonEl =\n",
              "          document.querySelector('#df-4dc1dbd9-5711-4f06-8abe-c854b98f4048 button.colab-df-convert');\n",
              "        buttonEl.style.display =\n",
              "          google.colab.kernel.accessAllowed ? 'block' : 'none';\n",
              "\n",
              "        async function convertToInteractive(key) {\n",
              "          const element = document.querySelector('#df-4dc1dbd9-5711-4f06-8abe-c854b98f4048');\n",
              "          const dataTable =\n",
              "            await google.colab.kernel.invokeFunction('convertToInteractive',\n",
              "                                                     [key], {});\n",
              "          if (!dataTable) return;\n",
              "\n",
              "          const docLinkHtml = 'Like what you see? Visit the ' +\n",
              "            '<a target=\"_blank\" href=https://colab.research.google.com/notebooks/data_table.ipynb>data table notebook</a>'\n",
              "            + ' to learn more about interactive tables.';\n",
              "          element.innerHTML = '';\n",
              "          dataTable['output_type'] = 'display_data';\n",
              "          await google.colab.output.renderOutput(dataTable, element);\n",
              "          const docLink = document.createElement('div');\n",
              "          docLink.innerHTML = docLinkHtml;\n",
              "          element.appendChild(docLink);\n",
              "        }\n",
              "      </script>\n",
              "    </div>\n",
              "  </div>\n",
              "  "
            ]
          },
          "metadata": {},
          "execution_count": 2
        }
      ]
    },
    {
      "cell_type": "code",
      "source": [
        "forest.info()"
      ],
      "metadata": {
        "colab": {
          "base_uri": "https://localhost:8080/"
        },
        "id": "YKH8BzXRODVF",
        "outputId": "e3d5bb34-1d4e-4391-cb29-7f15b7d6a449"
      },
      "execution_count": 3,
      "outputs": [
        {
          "output_type": "stream",
          "name": "stdout",
          "text": [
            "<class 'pandas.core.frame.DataFrame'>\n",
            "RangeIndex: 517 entries, 0 to 516\n",
            "Data columns (total 31 columns):\n",
            " #   Column         Non-Null Count  Dtype  \n",
            "---  ------         --------------  -----  \n",
            " 0   month          517 non-null    object \n",
            " 1   day            517 non-null    object \n",
            " 2   FFMC           517 non-null    float64\n",
            " 3   DMC            517 non-null    float64\n",
            " 4   DC             517 non-null    float64\n",
            " 5   ISI            517 non-null    float64\n",
            " 6   temp           517 non-null    float64\n",
            " 7   RH             517 non-null    int64  \n",
            " 8   wind           517 non-null    float64\n",
            " 9   rain           517 non-null    float64\n",
            " 10  area           517 non-null    float64\n",
            " 11  dayfri         517 non-null    int64  \n",
            " 12  daymon         517 non-null    int64  \n",
            " 13  daysat         517 non-null    int64  \n",
            " 14  daysun         517 non-null    int64  \n",
            " 15  daythu         517 non-null    int64  \n",
            " 16  daytue         517 non-null    int64  \n",
            " 17  daywed         517 non-null    int64  \n",
            " 18  monthapr       517 non-null    int64  \n",
            " 19  monthaug       517 non-null    int64  \n",
            " 20  monthdec       517 non-null    int64  \n",
            " 21  monthfeb       517 non-null    int64  \n",
            " 22  monthjan       517 non-null    int64  \n",
            " 23  monthjul       517 non-null    int64  \n",
            " 24  monthjun       517 non-null    int64  \n",
            " 25  monthmar       517 non-null    int64  \n",
            " 26  monthmay       517 non-null    int64  \n",
            " 27  monthnov       517 non-null    int64  \n",
            " 28  monthoct       517 non-null    int64  \n",
            " 29  monthsep       517 non-null    int64  \n",
            " 30  size_category  517 non-null    object \n",
            "dtypes: float64(8), int64(20), object(3)\n",
            "memory usage: 125.3+ KB\n"
          ]
        }
      ]
    },
    {
      "cell_type": "code",
      "source": [
        "forest_new = forest.drop(forest.columns[[11,12,13,14,15,16,17,18,19,20,21,22,23,24,25,26,27,28,29]],axis=1)"
      ],
      "metadata": {
        "id": "Pd5shJTbPI2i"
      },
      "execution_count": 4,
      "outputs": []
    },
    {
      "cell_type": "code",
      "source": [
        "forest_new.head()"
      ],
      "metadata": {
        "colab": {
          "base_uri": "https://localhost:8080/",
          "height": 206
        },
        "id": "IDvPfMoKPy8L",
        "outputId": "1dd387f3-642f-4439-eeff-c4fd71b29b89"
      },
      "execution_count": 5,
      "outputs": [
        {
          "output_type": "execute_result",
          "data": {
            "text/plain": [
              "  month  day  FFMC   DMC     DC  ISI  temp  RH  wind  rain  area size_category\n",
              "0   mar  fri  86.2  26.2   94.3  5.1   8.2  51   6.7   0.0   0.0         small\n",
              "1   oct  tue  90.6  35.4  669.1  6.7  18.0  33   0.9   0.0   0.0         small\n",
              "2   oct  sat  90.6  43.7  686.9  6.7  14.6  33   1.3   0.0   0.0         small\n",
              "3   mar  fri  91.7  33.3   77.5  9.0   8.3  97   4.0   0.2   0.0         small\n",
              "4   mar  sun  89.3  51.3  102.2  9.6  11.4  99   1.8   0.0   0.0         small"
            ],
            "text/html": [
              "\n",
              "  <div id=\"df-3c578bf8-c53c-49b4-89f4-c7a39fcffbdb\">\n",
              "    <div class=\"colab-df-container\">\n",
              "      <div>\n",
              "<style scoped>\n",
              "    .dataframe tbody tr th:only-of-type {\n",
              "        vertical-align: middle;\n",
              "    }\n",
              "\n",
              "    .dataframe tbody tr th {\n",
              "        vertical-align: top;\n",
              "    }\n",
              "\n",
              "    .dataframe thead th {\n",
              "        text-align: right;\n",
              "    }\n",
              "</style>\n",
              "<table border=\"1\" class=\"dataframe\">\n",
              "  <thead>\n",
              "    <tr style=\"text-align: right;\">\n",
              "      <th></th>\n",
              "      <th>month</th>\n",
              "      <th>day</th>\n",
              "      <th>FFMC</th>\n",
              "      <th>DMC</th>\n",
              "      <th>DC</th>\n",
              "      <th>ISI</th>\n",
              "      <th>temp</th>\n",
              "      <th>RH</th>\n",
              "      <th>wind</th>\n",
              "      <th>rain</th>\n",
              "      <th>area</th>\n",
              "      <th>size_category</th>\n",
              "    </tr>\n",
              "  </thead>\n",
              "  <tbody>\n",
              "    <tr>\n",
              "      <th>0</th>\n",
              "      <td>mar</td>\n",
              "      <td>fri</td>\n",
              "      <td>86.2</td>\n",
              "      <td>26.2</td>\n",
              "      <td>94.3</td>\n",
              "      <td>5.1</td>\n",
              "      <td>8.2</td>\n",
              "      <td>51</td>\n",
              "      <td>6.7</td>\n",
              "      <td>0.0</td>\n",
              "      <td>0.0</td>\n",
              "      <td>small</td>\n",
              "    </tr>\n",
              "    <tr>\n",
              "      <th>1</th>\n",
              "      <td>oct</td>\n",
              "      <td>tue</td>\n",
              "      <td>90.6</td>\n",
              "      <td>35.4</td>\n",
              "      <td>669.1</td>\n",
              "      <td>6.7</td>\n",
              "      <td>18.0</td>\n",
              "      <td>33</td>\n",
              "      <td>0.9</td>\n",
              "      <td>0.0</td>\n",
              "      <td>0.0</td>\n",
              "      <td>small</td>\n",
              "    </tr>\n",
              "    <tr>\n",
              "      <th>2</th>\n",
              "      <td>oct</td>\n",
              "      <td>sat</td>\n",
              "      <td>90.6</td>\n",
              "      <td>43.7</td>\n",
              "      <td>686.9</td>\n",
              "      <td>6.7</td>\n",
              "      <td>14.6</td>\n",
              "      <td>33</td>\n",
              "      <td>1.3</td>\n",
              "      <td>0.0</td>\n",
              "      <td>0.0</td>\n",
              "      <td>small</td>\n",
              "    </tr>\n",
              "    <tr>\n",
              "      <th>3</th>\n",
              "      <td>mar</td>\n",
              "      <td>fri</td>\n",
              "      <td>91.7</td>\n",
              "      <td>33.3</td>\n",
              "      <td>77.5</td>\n",
              "      <td>9.0</td>\n",
              "      <td>8.3</td>\n",
              "      <td>97</td>\n",
              "      <td>4.0</td>\n",
              "      <td>0.2</td>\n",
              "      <td>0.0</td>\n",
              "      <td>small</td>\n",
              "    </tr>\n",
              "    <tr>\n",
              "      <th>4</th>\n",
              "      <td>mar</td>\n",
              "      <td>sun</td>\n",
              "      <td>89.3</td>\n",
              "      <td>51.3</td>\n",
              "      <td>102.2</td>\n",
              "      <td>9.6</td>\n",
              "      <td>11.4</td>\n",
              "      <td>99</td>\n",
              "      <td>1.8</td>\n",
              "      <td>0.0</td>\n",
              "      <td>0.0</td>\n",
              "      <td>small</td>\n",
              "    </tr>\n",
              "  </tbody>\n",
              "</table>\n",
              "</div>\n",
              "      <button class=\"colab-df-convert\" onclick=\"convertToInteractive('df-3c578bf8-c53c-49b4-89f4-c7a39fcffbdb')\"\n",
              "              title=\"Convert this dataframe to an interactive table.\"\n",
              "              style=\"display:none;\">\n",
              "        \n",
              "  <svg xmlns=\"http://www.w3.org/2000/svg\" height=\"24px\"viewBox=\"0 0 24 24\"\n",
              "       width=\"24px\">\n",
              "    <path d=\"M0 0h24v24H0V0z\" fill=\"none\"/>\n",
              "    <path d=\"M18.56 5.44l.94 2.06.94-2.06 2.06-.94-2.06-.94-.94-2.06-.94 2.06-2.06.94zm-11 1L8.5 8.5l.94-2.06 2.06-.94-2.06-.94L8.5 2.5l-.94 2.06-2.06.94zm10 10l.94 2.06.94-2.06 2.06-.94-2.06-.94-.94-2.06-.94 2.06-2.06.94z\"/><path d=\"M17.41 7.96l-1.37-1.37c-.4-.4-.92-.59-1.43-.59-.52 0-1.04.2-1.43.59L10.3 9.45l-7.72 7.72c-.78.78-.78 2.05 0 2.83L4 21.41c.39.39.9.59 1.41.59.51 0 1.02-.2 1.41-.59l7.78-7.78 2.81-2.81c.8-.78.8-2.07 0-2.86zM5.41 20L4 18.59l7.72-7.72 1.47 1.35L5.41 20z\"/>\n",
              "  </svg>\n",
              "      </button>\n",
              "      \n",
              "  <style>\n",
              "    .colab-df-container {\n",
              "      display:flex;\n",
              "      flex-wrap:wrap;\n",
              "      gap: 12px;\n",
              "    }\n",
              "\n",
              "    .colab-df-convert {\n",
              "      background-color: #E8F0FE;\n",
              "      border: none;\n",
              "      border-radius: 50%;\n",
              "      cursor: pointer;\n",
              "      display: none;\n",
              "      fill: #1967D2;\n",
              "      height: 32px;\n",
              "      padding: 0 0 0 0;\n",
              "      width: 32px;\n",
              "    }\n",
              "\n",
              "    .colab-df-convert:hover {\n",
              "      background-color: #E2EBFA;\n",
              "      box-shadow: 0px 1px 2px rgba(60, 64, 67, 0.3), 0px 1px 3px 1px rgba(60, 64, 67, 0.15);\n",
              "      fill: #174EA6;\n",
              "    }\n",
              "\n",
              "    [theme=dark] .colab-df-convert {\n",
              "      background-color: #3B4455;\n",
              "      fill: #D2E3FC;\n",
              "    }\n",
              "\n",
              "    [theme=dark] .colab-df-convert:hover {\n",
              "      background-color: #434B5C;\n",
              "      box-shadow: 0px 1px 3px 1px rgba(0, 0, 0, 0.15);\n",
              "      filter: drop-shadow(0px 1px 2px rgba(0, 0, 0, 0.3));\n",
              "      fill: #FFFFFF;\n",
              "    }\n",
              "  </style>\n",
              "\n",
              "      <script>\n",
              "        const buttonEl =\n",
              "          document.querySelector('#df-3c578bf8-c53c-49b4-89f4-c7a39fcffbdb button.colab-df-convert');\n",
              "        buttonEl.style.display =\n",
              "          google.colab.kernel.accessAllowed ? 'block' : 'none';\n",
              "\n",
              "        async function convertToInteractive(key) {\n",
              "          const element = document.querySelector('#df-3c578bf8-c53c-49b4-89f4-c7a39fcffbdb');\n",
              "          const dataTable =\n",
              "            await google.colab.kernel.invokeFunction('convertToInteractive',\n",
              "                                                     [key], {});\n",
              "          if (!dataTable) return;\n",
              "\n",
              "          const docLinkHtml = 'Like what you see? Visit the ' +\n",
              "            '<a target=\"_blank\" href=https://colab.research.google.com/notebooks/data_table.ipynb>data table notebook</a>'\n",
              "            + ' to learn more about interactive tables.';\n",
              "          element.innerHTML = '';\n",
              "          dataTable['output_type'] = 'display_data';\n",
              "          await google.colab.output.renderOutput(dataTable, element);\n",
              "          const docLink = document.createElement('div');\n",
              "          docLink.innerHTML = docLinkHtml;\n",
              "          element.appendChild(docLink);\n",
              "        }\n",
              "      </script>\n",
              "    </div>\n",
              "  </div>\n",
              "  "
            ]
          },
          "metadata": {},
          "execution_count": 5
        }
      ]
    },
    {
      "cell_type": "code",
      "source": [
        "forest_new['size_category'].value_counts()"
      ],
      "metadata": {
        "colab": {
          "base_uri": "https://localhost:8080/"
        },
        "id": "BIgH-5H9SHaR",
        "outputId": "8923ec95-ad45-4459-ee29-c30921a0c939"
      },
      "execution_count": 6,
      "outputs": [
        {
          "output_type": "execute_result",
          "data": {
            "text/plain": [
              "small    378\n",
              "large    139\n",
              "Name: size_category, dtype: int64"
            ]
          },
          "metadata": {},
          "execution_count": 6
        }
      ]
    },
    {
      "cell_type": "markdown",
      "source": [
        "size_category is target variable burned area of forest "
      ],
      "metadata": {
        "id": "N4FjOnPSTsQz"
      }
    },
    {
      "cell_type": "code",
      "source": [
        "forest_new[forest_new.duplicated()]"
      ],
      "metadata": {
        "colab": {
          "base_uri": "https://localhost:8080/",
          "height": 300
        },
        "id": "RRgFBDQASXb2",
        "outputId": "7494b0f5-1a24-4609-c67d-5efcbe2fb246"
      },
      "execution_count": 7,
      "outputs": [
        {
          "output_type": "execute_result",
          "data": {
            "text/plain": [
              "    month  day  FFMC    DMC     DC   ISI  temp  RH  wind  rain   area  \\\n",
              "53    aug  wed  92.1  111.2  654.1   9.6  20.4  42   4.9   0.0   0.00   \n",
              "100   aug  sun  91.4  142.4  601.4  10.6  19.8  39   5.4   0.0   0.00   \n",
              "215   mar  sat  91.7   35.8   80.8   7.8  17.0  27   4.9   0.0  28.66   \n",
              "303   jun  fri  91.1   94.1  232.1   7.1  19.2  38   4.5   0.0   0.00   \n",
              "426   aug  thu  91.6  248.4  753.8   6.3  20.4  56   2.2   0.0   0.00   \n",
              "461   aug  sat  93.7  231.1  715.1   8.4  18.9  64   4.9   0.0   0.00   \n",
              "501   aug  tue  96.1  181.1  671.2  14.3  21.6  65   4.9   0.8   0.00   \n",
              "508   aug  fri  91.0  166.9  752.6   7.1  25.9  41   3.6   0.0   0.00   \n",
              "\n",
              "    size_category  \n",
              "53          small  \n",
              "100         small  \n",
              "215         large  \n",
              "303         small  \n",
              "426         small  \n",
              "461         small  \n",
              "501         small  \n",
              "508         small  "
            ],
            "text/html": [
              "\n",
              "  <div id=\"df-3774ef31-703a-4326-95c7-2dda12a8752d\">\n",
              "    <div class=\"colab-df-container\">\n",
              "      <div>\n",
              "<style scoped>\n",
              "    .dataframe tbody tr th:only-of-type {\n",
              "        vertical-align: middle;\n",
              "    }\n",
              "\n",
              "    .dataframe tbody tr th {\n",
              "        vertical-align: top;\n",
              "    }\n",
              "\n",
              "    .dataframe thead th {\n",
              "        text-align: right;\n",
              "    }\n",
              "</style>\n",
              "<table border=\"1\" class=\"dataframe\">\n",
              "  <thead>\n",
              "    <tr style=\"text-align: right;\">\n",
              "      <th></th>\n",
              "      <th>month</th>\n",
              "      <th>day</th>\n",
              "      <th>FFMC</th>\n",
              "      <th>DMC</th>\n",
              "      <th>DC</th>\n",
              "      <th>ISI</th>\n",
              "      <th>temp</th>\n",
              "      <th>RH</th>\n",
              "      <th>wind</th>\n",
              "      <th>rain</th>\n",
              "      <th>area</th>\n",
              "      <th>size_category</th>\n",
              "    </tr>\n",
              "  </thead>\n",
              "  <tbody>\n",
              "    <tr>\n",
              "      <th>53</th>\n",
              "      <td>aug</td>\n",
              "      <td>wed</td>\n",
              "      <td>92.1</td>\n",
              "      <td>111.2</td>\n",
              "      <td>654.1</td>\n",
              "      <td>9.6</td>\n",
              "      <td>20.4</td>\n",
              "      <td>42</td>\n",
              "      <td>4.9</td>\n",
              "      <td>0.0</td>\n",
              "      <td>0.00</td>\n",
              "      <td>small</td>\n",
              "    </tr>\n",
              "    <tr>\n",
              "      <th>100</th>\n",
              "      <td>aug</td>\n",
              "      <td>sun</td>\n",
              "      <td>91.4</td>\n",
              "      <td>142.4</td>\n",
              "      <td>601.4</td>\n",
              "      <td>10.6</td>\n",
              "      <td>19.8</td>\n",
              "      <td>39</td>\n",
              "      <td>5.4</td>\n",
              "      <td>0.0</td>\n",
              "      <td>0.00</td>\n",
              "      <td>small</td>\n",
              "    </tr>\n",
              "    <tr>\n",
              "      <th>215</th>\n",
              "      <td>mar</td>\n",
              "      <td>sat</td>\n",
              "      <td>91.7</td>\n",
              "      <td>35.8</td>\n",
              "      <td>80.8</td>\n",
              "      <td>7.8</td>\n",
              "      <td>17.0</td>\n",
              "      <td>27</td>\n",
              "      <td>4.9</td>\n",
              "      <td>0.0</td>\n",
              "      <td>28.66</td>\n",
              "      <td>large</td>\n",
              "    </tr>\n",
              "    <tr>\n",
              "      <th>303</th>\n",
              "      <td>jun</td>\n",
              "      <td>fri</td>\n",
              "      <td>91.1</td>\n",
              "      <td>94.1</td>\n",
              "      <td>232.1</td>\n",
              "      <td>7.1</td>\n",
              "      <td>19.2</td>\n",
              "      <td>38</td>\n",
              "      <td>4.5</td>\n",
              "      <td>0.0</td>\n",
              "      <td>0.00</td>\n",
              "      <td>small</td>\n",
              "    </tr>\n",
              "    <tr>\n",
              "      <th>426</th>\n",
              "      <td>aug</td>\n",
              "      <td>thu</td>\n",
              "      <td>91.6</td>\n",
              "      <td>248.4</td>\n",
              "      <td>753.8</td>\n",
              "      <td>6.3</td>\n",
              "      <td>20.4</td>\n",
              "      <td>56</td>\n",
              "      <td>2.2</td>\n",
              "      <td>0.0</td>\n",
              "      <td>0.00</td>\n",
              "      <td>small</td>\n",
              "    </tr>\n",
              "    <tr>\n",
              "      <th>461</th>\n",
              "      <td>aug</td>\n",
              "      <td>sat</td>\n",
              "      <td>93.7</td>\n",
              "      <td>231.1</td>\n",
              "      <td>715.1</td>\n",
              "      <td>8.4</td>\n",
              "      <td>18.9</td>\n",
              "      <td>64</td>\n",
              "      <td>4.9</td>\n",
              "      <td>0.0</td>\n",
              "      <td>0.00</td>\n",
              "      <td>small</td>\n",
              "    </tr>\n",
              "    <tr>\n",
              "      <th>501</th>\n",
              "      <td>aug</td>\n",
              "      <td>tue</td>\n",
              "      <td>96.1</td>\n",
              "      <td>181.1</td>\n",
              "      <td>671.2</td>\n",
              "      <td>14.3</td>\n",
              "      <td>21.6</td>\n",
              "      <td>65</td>\n",
              "      <td>4.9</td>\n",
              "      <td>0.8</td>\n",
              "      <td>0.00</td>\n",
              "      <td>small</td>\n",
              "    </tr>\n",
              "    <tr>\n",
              "      <th>508</th>\n",
              "      <td>aug</td>\n",
              "      <td>fri</td>\n",
              "      <td>91.0</td>\n",
              "      <td>166.9</td>\n",
              "      <td>752.6</td>\n",
              "      <td>7.1</td>\n",
              "      <td>25.9</td>\n",
              "      <td>41</td>\n",
              "      <td>3.6</td>\n",
              "      <td>0.0</td>\n",
              "      <td>0.00</td>\n",
              "      <td>small</td>\n",
              "    </tr>\n",
              "  </tbody>\n",
              "</table>\n",
              "</div>\n",
              "      <button class=\"colab-df-convert\" onclick=\"convertToInteractive('df-3774ef31-703a-4326-95c7-2dda12a8752d')\"\n",
              "              title=\"Convert this dataframe to an interactive table.\"\n",
              "              style=\"display:none;\">\n",
              "        \n",
              "  <svg xmlns=\"http://www.w3.org/2000/svg\" height=\"24px\"viewBox=\"0 0 24 24\"\n",
              "       width=\"24px\">\n",
              "    <path d=\"M0 0h24v24H0V0z\" fill=\"none\"/>\n",
              "    <path d=\"M18.56 5.44l.94 2.06.94-2.06 2.06-.94-2.06-.94-.94-2.06-.94 2.06-2.06.94zm-11 1L8.5 8.5l.94-2.06 2.06-.94-2.06-.94L8.5 2.5l-.94 2.06-2.06.94zm10 10l.94 2.06.94-2.06 2.06-.94-2.06-.94-.94-2.06-.94 2.06-2.06.94z\"/><path d=\"M17.41 7.96l-1.37-1.37c-.4-.4-.92-.59-1.43-.59-.52 0-1.04.2-1.43.59L10.3 9.45l-7.72 7.72c-.78.78-.78 2.05 0 2.83L4 21.41c.39.39.9.59 1.41.59.51 0 1.02-.2 1.41-.59l7.78-7.78 2.81-2.81c.8-.78.8-2.07 0-2.86zM5.41 20L4 18.59l7.72-7.72 1.47 1.35L5.41 20z\"/>\n",
              "  </svg>\n",
              "      </button>\n",
              "      \n",
              "  <style>\n",
              "    .colab-df-container {\n",
              "      display:flex;\n",
              "      flex-wrap:wrap;\n",
              "      gap: 12px;\n",
              "    }\n",
              "\n",
              "    .colab-df-convert {\n",
              "      background-color: #E8F0FE;\n",
              "      border: none;\n",
              "      border-radius: 50%;\n",
              "      cursor: pointer;\n",
              "      display: none;\n",
              "      fill: #1967D2;\n",
              "      height: 32px;\n",
              "      padding: 0 0 0 0;\n",
              "      width: 32px;\n",
              "    }\n",
              "\n",
              "    .colab-df-convert:hover {\n",
              "      background-color: #E2EBFA;\n",
              "      box-shadow: 0px 1px 2px rgba(60, 64, 67, 0.3), 0px 1px 3px 1px rgba(60, 64, 67, 0.15);\n",
              "      fill: #174EA6;\n",
              "    }\n",
              "\n",
              "    [theme=dark] .colab-df-convert {\n",
              "      background-color: #3B4455;\n",
              "      fill: #D2E3FC;\n",
              "    }\n",
              "\n",
              "    [theme=dark] .colab-df-convert:hover {\n",
              "      background-color: #434B5C;\n",
              "      box-shadow: 0px 1px 3px 1px rgba(0, 0, 0, 0.15);\n",
              "      filter: drop-shadow(0px 1px 2px rgba(0, 0, 0, 0.3));\n",
              "      fill: #FFFFFF;\n",
              "    }\n",
              "  </style>\n",
              "\n",
              "      <script>\n",
              "        const buttonEl =\n",
              "          document.querySelector('#df-3774ef31-703a-4326-95c7-2dda12a8752d button.colab-df-convert');\n",
              "        buttonEl.style.display =\n",
              "          google.colab.kernel.accessAllowed ? 'block' : 'none';\n",
              "\n",
              "        async function convertToInteractive(key) {\n",
              "          const element = document.querySelector('#df-3774ef31-703a-4326-95c7-2dda12a8752d');\n",
              "          const dataTable =\n",
              "            await google.colab.kernel.invokeFunction('convertToInteractive',\n",
              "                                                     [key], {});\n",
              "          if (!dataTable) return;\n",
              "\n",
              "          const docLinkHtml = 'Like what you see? Visit the ' +\n",
              "            '<a target=\"_blank\" href=https://colab.research.google.com/notebooks/data_table.ipynb>data table notebook</a>'\n",
              "            + ' to learn more about interactive tables.';\n",
              "          element.innerHTML = '';\n",
              "          dataTable['output_type'] = 'display_data';\n",
              "          await google.colab.output.renderOutput(dataTable, element);\n",
              "          const docLink = document.createElement('div');\n",
              "          docLink.innerHTML = docLinkHtml;\n",
              "          element.appendChild(docLink);\n",
              "        }\n",
              "      </script>\n",
              "    </div>\n",
              "  </div>\n",
              "  "
            ]
          },
          "metadata": {},
          "execution_count": 7
        }
      ]
    },
    {
      "cell_type": "code",
      "source": [
        "forest_new.drop_duplicates(inplace=True)\n",
        "forest_new = forest_new.reset_index(drop=True)"
      ],
      "metadata": {
        "id": "3rEgAtxTVSdK"
      },
      "execution_count": 8,
      "outputs": []
    },
    {
      "cell_type": "code",
      "source": [
        "forest_new.info()"
      ],
      "metadata": {
        "colab": {
          "base_uri": "https://localhost:8080/"
        },
        "id": "W1zSEPilWRDh",
        "outputId": "365b20fa-c48b-4650-87c2-5a88e421ad71"
      },
      "execution_count": 9,
      "outputs": [
        {
          "output_type": "stream",
          "name": "stdout",
          "text": [
            "<class 'pandas.core.frame.DataFrame'>\n",
            "RangeIndex: 509 entries, 0 to 508\n",
            "Data columns (total 12 columns):\n",
            " #   Column         Non-Null Count  Dtype  \n",
            "---  ------         --------------  -----  \n",
            " 0   month          509 non-null    object \n",
            " 1   day            509 non-null    object \n",
            " 2   FFMC           509 non-null    float64\n",
            " 3   DMC            509 non-null    float64\n",
            " 4   DC             509 non-null    float64\n",
            " 5   ISI            509 non-null    float64\n",
            " 6   temp           509 non-null    float64\n",
            " 7   RH             509 non-null    int64  \n",
            " 8   wind           509 non-null    float64\n",
            " 9   rain           509 non-null    float64\n",
            " 10  area           509 non-null    float64\n",
            " 11  size_category  509 non-null    object \n",
            "dtypes: float64(8), int64(1), object(3)\n",
            "memory usage: 47.8+ KB\n"
          ]
        }
      ]
    },
    {
      "cell_type": "code",
      "source": [
        "forest_new.isnull().sum()"
      ],
      "metadata": {
        "colab": {
          "base_uri": "https://localhost:8080/"
        },
        "id": "khevVHigWVCp",
        "outputId": "928e5b05-4111-467b-e925-fa16a4df8521"
      },
      "execution_count": 10,
      "outputs": [
        {
          "output_type": "execute_result",
          "data": {
            "text/plain": [
              "month            0\n",
              "day              0\n",
              "FFMC             0\n",
              "DMC              0\n",
              "DC               0\n",
              "ISI              0\n",
              "temp             0\n",
              "RH               0\n",
              "wind             0\n",
              "rain             0\n",
              "area             0\n",
              "size_category    0\n",
              "dtype: int64"
            ]
          },
          "metadata": {},
          "execution_count": 10
        }
      ]
    },
    {
      "cell_type": "code",
      "source": [
        "numerical_columns = []\n",
        "for feature in forest_new.columns:\n",
        "  if forest_new[feature].dtype == \"float64\":\n",
        "    numerical_columns.append(feature)\n",
        "print(numerical_columns)"
      ],
      "metadata": {
        "colab": {
          "base_uri": "https://localhost:8080/"
        },
        "id": "oWJwh5FsWiGh",
        "outputId": "2baf7f63-3df4-4b54-8450-fe97c8915c83"
      },
      "execution_count": 11,
      "outputs": [
        {
          "output_type": "stream",
          "name": "stdout",
          "text": [
            "['FFMC', 'DMC', 'DC', 'ISI', 'temp', 'wind', 'rain', 'area']\n"
          ]
        }
      ]
    },
    {
      "cell_type": "code",
      "source": [
        "from sklearn.preprocessing import LabelEncoder\n",
        "label_encoder = LabelEncoder()\n",
        "for feature in forest_new.columns:\n",
        "  if forest_new[feature].dtype == \"object\":\n",
        "    forest_new[feature] = label_encoder.fit_transform(forest_new[feature])"
      ],
      "metadata": {
        "id": "PYGxYWJLXkFq"
      },
      "execution_count": 12,
      "outputs": []
    },
    {
      "cell_type": "code",
      "source": [
        "forest_new.size_category.value_counts()"
      ],
      "metadata": {
        "colab": {
          "base_uri": "https://localhost:8080/"
        },
        "id": "wy1slQHO-dsq",
        "outputId": "2065296d-ffd6-4627-9f14-a440e4e7f442"
      },
      "execution_count": 14,
      "outputs": [
        {
          "output_type": "execute_result",
          "data": {
            "text/plain": [
              "1    371\n",
              "0    138\n",
              "Name: size_category, dtype: int64"
            ]
          },
          "metadata": {},
          "execution_count": 14
        }
      ]
    },
    {
      "cell_type": "code",
      "source": [
        "#converting data frame into array\n",
        "dataset = forest_new.values\n",
        "dataset"
      ],
      "metadata": {
        "colab": {
          "base_uri": "https://localhost:8080/"
        },
        "id": "sYU_1De2-ghl",
        "outputId": "a923e8e6-f16e-43a8-a25b-959594c684c0"
      },
      "execution_count": 16,
      "outputs": [
        {
          "output_type": "execute_result",
          "data": {
            "text/plain": [
              "array([[ 7.  ,  0.  , 86.2 , ...,  0.  ,  0.  ,  1.  ],\n",
              "       [10.  ,  5.  , 90.6 , ...,  0.  ,  0.  ,  1.  ],\n",
              "       [10.  ,  2.  , 90.6 , ...,  0.  ,  0.  ,  1.  ],\n",
              "       ...,\n",
              "       [ 1.  ,  3.  , 81.6 , ...,  0.  , 11.16,  0.  ],\n",
              "       [ 1.  ,  2.  , 94.4 , ...,  0.  ,  0.  ,  1.  ],\n",
              "       [ 9.  ,  5.  , 79.5 , ...,  0.  ,  0.  ,  1.  ]])"
            ]
          },
          "metadata": {},
          "execution_count": 16
        }
      ]
    },
    {
      "cell_type": "code",
      "source": [
        "X = dataset[:,:11]\n",
        "Y = dataset[:,11]"
      ],
      "metadata": {
        "colab": {
          "base_uri": "https://localhost:8080/"
        },
        "id": "gHrTz0Qs_c65",
        "outputId": "d85f0d90-646c-4f8e-a3a4-31bd641fec3d"
      },
      "execution_count": 20,
      "outputs": [
        {
          "output_type": "execute_result",
          "data": {
            "text/plain": [
              "(509, 11)"
            ]
          },
          "metadata": {},
          "execution_count": 20
        }
      ]
    },
    {
      "cell_type": "code",
      "source": [
        "#splitting data into train and test\n",
        "X_train, X_test, y_train, y_test = train_test_split(X, Y, test_size=0.3, random_state=42)"
      ],
      "metadata": {
        "id": "2TwMvaLAAYwM"
      },
      "execution_count": 22,
      "outputs": []
    },
    {
      "cell_type": "code",
      "source": [
        "# Build the ANN model\n",
        "model = Sequential()\n",
        "model.add(Dense(12, activation='relu',input_shape=(X_train.shape[1],)))\n",
        "model.add(Dense(12, activation='relu'))\n",
        "model.add(Dense(1, activation='sigmoid'))"
      ],
      "metadata": {
        "id": "aZdRH5RbAgIv"
      },
      "execution_count": 25,
      "outputs": []
    },
    {
      "cell_type": "code",
      "source": [
        "# Compile model\n",
        "model.compile(loss='binary_crossentropy', optimizer='adam', metrics=['accuracy'])"
      ],
      "metadata": {
        "id": "bx6XwoFrDH92"
      },
      "execution_count": 26,
      "outputs": []
    },
    {
      "cell_type": "code",
      "source": [
        "# Fit the model\n",
        "history = model.fit(X_train, y_train, epochs=100, batch_size=20)"
      ],
      "metadata": {
        "colab": {
          "base_uri": "https://localhost:8080/"
        },
        "id": "sS_19ueiDJAN",
        "outputId": "b4092ba0-8d1b-43ce-9e02-373cd41a1e8b"
      },
      "execution_count": 27,
      "outputs": [
        {
          "output_type": "stream",
          "name": "stdout",
          "text": [
            "Epoch 1/100\n",
            "18/18 [==============================] - 1s 2ms/step - loss: 16.3985 - accuracy: 0.4213\n",
            "Epoch 2/100\n",
            "18/18 [==============================] - 0s 2ms/step - loss: 3.8943 - accuracy: 0.7444\n",
            "Epoch 3/100\n",
            "18/18 [==============================] - 0s 1ms/step - loss: 2.4405 - accuracy: 0.6798\n",
            "Epoch 4/100\n",
            "18/18 [==============================] - 0s 1ms/step - loss: 1.7460 - accuracy: 0.7219\n",
            "Epoch 5/100\n",
            "18/18 [==============================] - 0s 1ms/step - loss: 1.2379 - accuracy: 0.7669\n",
            "Epoch 6/100\n",
            "18/18 [==============================] - 0s 1ms/step - loss: 0.8690 - accuracy: 0.7809\n",
            "Epoch 7/100\n",
            "18/18 [==============================] - 0s 1ms/step - loss: 0.6698 - accuracy: 0.7978\n",
            "Epoch 8/100\n",
            "18/18 [==============================] - 0s 1ms/step - loss: 0.5218 - accuracy: 0.8343\n",
            "Epoch 9/100\n",
            "18/18 [==============================] - 0s 1ms/step - loss: 0.4013 - accuracy: 0.8764\n",
            "Epoch 10/100\n",
            "18/18 [==============================] - 0s 1ms/step - loss: 0.3610 - accuracy: 0.8848\n",
            "Epoch 11/100\n",
            "18/18 [==============================] - 0s 1ms/step - loss: 0.3044 - accuracy: 0.8933\n",
            "Epoch 12/100\n",
            "18/18 [==============================] - 0s 2ms/step - loss: 0.3029 - accuracy: 0.8848\n",
            "Epoch 13/100\n",
            "18/18 [==============================] - 0s 1ms/step - loss: 0.2700 - accuracy: 0.8961\n",
            "Epoch 14/100\n",
            "18/18 [==============================] - 0s 1ms/step - loss: 0.2697 - accuracy: 0.9073\n",
            "Epoch 15/100\n",
            "18/18 [==============================] - 0s 1ms/step - loss: 0.2940 - accuracy: 0.8792\n",
            "Epoch 16/100\n",
            "18/18 [==============================] - 0s 1ms/step - loss: 0.2354 - accuracy: 0.9185\n",
            "Epoch 17/100\n",
            "18/18 [==============================] - 0s 1ms/step - loss: 0.2322 - accuracy: 0.9242\n",
            "Epoch 18/100\n",
            "18/18 [==============================] - 0s 1ms/step - loss: 0.2234 - accuracy: 0.9242\n",
            "Epoch 19/100\n",
            "18/18 [==============================] - 0s 1ms/step - loss: 0.2103 - accuracy: 0.9270\n",
            "Epoch 20/100\n",
            "18/18 [==============================] - 0s 1ms/step - loss: 0.2053 - accuracy: 0.9213\n",
            "Epoch 21/100\n",
            "18/18 [==============================] - 0s 1ms/step - loss: 0.1943 - accuracy: 0.9242\n",
            "Epoch 22/100\n",
            "18/18 [==============================] - 0s 1ms/step - loss: 0.1971 - accuracy: 0.9270\n",
            "Epoch 23/100\n",
            "18/18 [==============================] - 0s 1ms/step - loss: 0.1935 - accuracy: 0.9242\n",
            "Epoch 24/100\n",
            "18/18 [==============================] - 0s 2ms/step - loss: 0.2067 - accuracy: 0.9157\n",
            "Epoch 25/100\n",
            "18/18 [==============================] - 0s 1ms/step - loss: 0.1851 - accuracy: 0.9326\n",
            "Epoch 26/100\n",
            "18/18 [==============================] - 0s 1ms/step - loss: 0.1701 - accuracy: 0.9382\n",
            "Epoch 27/100\n",
            "18/18 [==============================] - 0s 1ms/step - loss: 0.1663 - accuracy: 0.9354\n",
            "Epoch 28/100\n",
            "18/18 [==============================] - 0s 2ms/step - loss: 0.1572 - accuracy: 0.9410\n",
            "Epoch 29/100\n",
            "18/18 [==============================] - 0s 1ms/step - loss: 0.1517 - accuracy: 0.9410\n",
            "Epoch 30/100\n",
            "18/18 [==============================] - 0s 1ms/step - loss: 0.1648 - accuracy: 0.9466\n",
            "Epoch 31/100\n",
            "18/18 [==============================] - 0s 2ms/step - loss: 0.1675 - accuracy: 0.9382\n",
            "Epoch 32/100\n",
            "18/18 [==============================] - 0s 2ms/step - loss: 0.1599 - accuracy: 0.9438\n",
            "Epoch 33/100\n",
            "18/18 [==============================] - 0s 2ms/step - loss: 0.1635 - accuracy: 0.9354\n",
            "Epoch 34/100\n",
            "18/18 [==============================] - 0s 2ms/step - loss: 0.1456 - accuracy: 0.9494\n",
            "Epoch 35/100\n",
            "18/18 [==============================] - 0s 2ms/step - loss: 0.1430 - accuracy: 0.9494\n",
            "Epoch 36/100\n",
            "18/18 [==============================] - 0s 2ms/step - loss: 0.1375 - accuracy: 0.9607\n",
            "Epoch 37/100\n",
            "18/18 [==============================] - 0s 2ms/step - loss: 0.1227 - accuracy: 0.9719\n",
            "Epoch 38/100\n",
            "18/18 [==============================] - 0s 2ms/step - loss: 0.1395 - accuracy: 0.9494\n",
            "Epoch 39/100\n",
            "18/18 [==============================] - 0s 2ms/step - loss: 0.1266 - accuracy: 0.9579\n",
            "Epoch 40/100\n",
            "18/18 [==============================] - 0s 2ms/step - loss: 0.1337 - accuracy: 0.9466\n",
            "Epoch 41/100\n",
            "18/18 [==============================] - 0s 2ms/step - loss: 0.1272 - accuracy: 0.9691\n",
            "Epoch 42/100\n",
            "18/18 [==============================] - 0s 2ms/step - loss: 0.1501 - accuracy: 0.9607\n",
            "Epoch 43/100\n",
            "18/18 [==============================] - 0s 2ms/step - loss: 0.1273 - accuracy: 0.9607\n",
            "Epoch 44/100\n",
            "18/18 [==============================] - 0s 2ms/step - loss: 0.1288 - accuracy: 0.9579\n",
            "Epoch 45/100\n",
            "18/18 [==============================] - 0s 2ms/step - loss: 0.1176 - accuracy: 0.9635\n",
            "Epoch 46/100\n",
            "18/18 [==============================] - 0s 1ms/step - loss: 0.1183 - accuracy: 0.9663\n",
            "Epoch 47/100\n",
            "18/18 [==============================] - 0s 1ms/step - loss: 0.1244 - accuracy: 0.9466\n",
            "Epoch 48/100\n",
            "18/18 [==============================] - 0s 1ms/step - loss: 0.1129 - accuracy: 0.9775\n",
            "Epoch 49/100\n",
            "18/18 [==============================] - 0s 2ms/step - loss: 0.1168 - accuracy: 0.9635\n",
            "Epoch 50/100\n",
            "18/18 [==============================] - 0s 2ms/step - loss: 0.1282 - accuracy: 0.9607\n",
            "Epoch 51/100\n",
            "18/18 [==============================] - 0s 2ms/step - loss: 0.0931 - accuracy: 0.9747\n",
            "Epoch 52/100\n",
            "18/18 [==============================] - 0s 2ms/step - loss: 0.0978 - accuracy: 0.9775\n",
            "Epoch 53/100\n",
            "18/18 [==============================] - 0s 1ms/step - loss: 0.1116 - accuracy: 0.9775\n",
            "Epoch 54/100\n",
            "18/18 [==============================] - 0s 1ms/step - loss: 0.1082 - accuracy: 0.9719\n",
            "Epoch 55/100\n",
            "18/18 [==============================] - 0s 2ms/step - loss: 0.0923 - accuracy: 0.9719\n",
            "Epoch 56/100\n",
            "18/18 [==============================] - 0s 2ms/step - loss: 0.0853 - accuracy: 0.9775\n",
            "Epoch 57/100\n",
            "18/18 [==============================] - 0s 2ms/step - loss: 0.0953 - accuracy: 0.9719\n",
            "Epoch 58/100\n",
            "18/18 [==============================] - 0s 2ms/step - loss: 0.0863 - accuracy: 0.9775\n",
            "Epoch 59/100\n",
            "18/18 [==============================] - 0s 2ms/step - loss: 0.0974 - accuracy: 0.9775\n",
            "Epoch 60/100\n",
            "18/18 [==============================] - 0s 2ms/step - loss: 0.0819 - accuracy: 0.9860\n",
            "Epoch 61/100\n",
            "18/18 [==============================] - 0s 1ms/step - loss: 0.0819 - accuracy: 0.9775\n",
            "Epoch 62/100\n",
            "18/18 [==============================] - 0s 2ms/step - loss: 0.0825 - accuracy: 0.9831\n",
            "Epoch 63/100\n",
            "18/18 [==============================] - 0s 2ms/step - loss: 0.1057 - accuracy: 0.9691\n",
            "Epoch 64/100\n",
            "18/18 [==============================] - 0s 1ms/step - loss: 0.0893 - accuracy: 0.9831\n",
            "Epoch 65/100\n",
            "18/18 [==============================] - 0s 2ms/step - loss: 0.0950 - accuracy: 0.9775\n",
            "Epoch 66/100\n",
            "18/18 [==============================] - 0s 1ms/step - loss: 0.0833 - accuracy: 0.9747\n",
            "Epoch 67/100\n",
            "18/18 [==============================] - 0s 2ms/step - loss: 0.0832 - accuracy: 0.9831\n",
            "Epoch 68/100\n",
            "18/18 [==============================] - 0s 2ms/step - loss: 0.0779 - accuracy: 0.9747\n",
            "Epoch 69/100\n",
            "18/18 [==============================] - 0s 2ms/step - loss: 0.0865 - accuracy: 0.9803\n",
            "Epoch 70/100\n",
            "18/18 [==============================] - 0s 1ms/step - loss: 0.0747 - accuracy: 0.9775\n",
            "Epoch 71/100\n",
            "18/18 [==============================] - 0s 1ms/step - loss: 0.0770 - accuracy: 0.9803\n",
            "Epoch 72/100\n",
            "18/18 [==============================] - 0s 2ms/step - loss: 0.0691 - accuracy: 0.9888\n",
            "Epoch 73/100\n",
            "18/18 [==============================] - 0s 2ms/step - loss: 0.0893 - accuracy: 0.9747\n",
            "Epoch 74/100\n",
            "18/18 [==============================] - 0s 2ms/step - loss: 0.0746 - accuracy: 0.9831\n",
            "Epoch 75/100\n",
            "18/18 [==============================] - 0s 2ms/step - loss: 0.0760 - accuracy: 0.9803\n",
            "Epoch 76/100\n",
            "18/18 [==============================] - 0s 2ms/step - loss: 0.0868 - accuracy: 0.9747\n",
            "Epoch 77/100\n",
            "18/18 [==============================] - 0s 2ms/step - loss: 0.0851 - accuracy: 0.9775\n",
            "Epoch 78/100\n",
            "18/18 [==============================] - 0s 2ms/step - loss: 0.0790 - accuracy: 0.9831\n",
            "Epoch 79/100\n",
            "18/18 [==============================] - 0s 2ms/step - loss: 0.0769 - accuracy: 0.9803\n",
            "Epoch 80/100\n",
            "18/18 [==============================] - 0s 2ms/step - loss: 0.1113 - accuracy: 0.9691\n",
            "Epoch 81/100\n",
            "18/18 [==============================] - 0s 2ms/step - loss: 0.0688 - accuracy: 0.9860\n",
            "Epoch 82/100\n",
            "18/18 [==============================] - 0s 2ms/step - loss: 0.0669 - accuracy: 0.9860\n",
            "Epoch 83/100\n",
            "18/18 [==============================] - 0s 2ms/step - loss: 0.0665 - accuracy: 0.9860\n",
            "Epoch 84/100\n",
            "18/18 [==============================] - 0s 2ms/step - loss: 0.0681 - accuracy: 0.9775\n",
            "Epoch 85/100\n",
            "18/18 [==============================] - 0s 1ms/step - loss: 0.0802 - accuracy: 0.9691\n",
            "Epoch 86/100\n",
            "18/18 [==============================] - 0s 2ms/step - loss: 0.0833 - accuracy: 0.9747\n",
            "Epoch 87/100\n",
            "18/18 [==============================] - 0s 2ms/step - loss: 0.0613 - accuracy: 0.9803\n",
            "Epoch 88/100\n",
            "18/18 [==============================] - 0s 2ms/step - loss: 0.0574 - accuracy: 0.9860\n",
            "Epoch 89/100\n",
            "18/18 [==============================] - 0s 2ms/step - loss: 0.0634 - accuracy: 0.9747\n",
            "Epoch 90/100\n",
            "18/18 [==============================] - 0s 2ms/step - loss: 0.0586 - accuracy: 0.9888\n",
            "Epoch 91/100\n",
            "18/18 [==============================] - 0s 2ms/step - loss: 0.0610 - accuracy: 0.9775\n",
            "Epoch 92/100\n",
            "18/18 [==============================] - 0s 2ms/step - loss: 0.0568 - accuracy: 0.9860\n",
            "Epoch 93/100\n",
            "18/18 [==============================] - 0s 2ms/step - loss: 0.0564 - accuracy: 0.9888\n",
            "Epoch 94/100\n",
            "18/18 [==============================] - 0s 2ms/step - loss: 0.0556 - accuracy: 0.9831\n",
            "Epoch 95/100\n",
            "18/18 [==============================] - 0s 2ms/step - loss: 0.0592 - accuracy: 0.9860\n",
            "Epoch 96/100\n",
            "18/18 [==============================] - 0s 2ms/step - loss: 0.0827 - accuracy: 0.9747\n",
            "Epoch 97/100\n",
            "18/18 [==============================] - 0s 2ms/step - loss: 0.0753 - accuracy: 0.9831\n",
            "Epoch 98/100\n",
            "18/18 [==============================] - 0s 2ms/step - loss: 0.0656 - accuracy: 0.9860\n",
            "Epoch 99/100\n",
            "18/18 [==============================] - 0s 2ms/step - loss: 0.0640 - accuracy: 0.9831\n",
            "Epoch 100/100\n",
            "18/18 [==============================] - 0s 1ms/step - loss: 0.0776 - accuracy: 0.9691\n"
          ]
        }
      ]
    },
    {
      "cell_type": "code",
      "source": [
        "# evaluate the model\n",
        "scores = model.evaluate(X_test, y_test)\n",
        "print(\"%s: %.2f%%\" % (model.metrics_names[1], scores[1]*100))"
      ],
      "metadata": {
        "colab": {
          "base_uri": "https://localhost:8080/"
        },
        "id": "-LQ08sIsDmNM",
        "outputId": "5abd1dc4-977c-45f4-bb0b-a9a32afe05c4"
      },
      "execution_count": 28,
      "outputs": [
        {
          "output_type": "stream",
          "name": "stdout",
          "text": [
            "5/5 [==============================] - 0s 3ms/step - loss: 0.1463 - accuracy: 0.9346\n",
            "accuracy: 93.46%\n"
          ]
        }
      ]
    },
    {
      "cell_type": "code",
      "source": [
        "# evaluate the model\n",
        "scores = model.evaluate(X_train, y_train)\n",
        "print(\"%s: %.2f%%\" % (model.metrics_names[1], scores[1]*100))"
      ],
      "metadata": {
        "colab": {
          "base_uri": "https://localhost:8080/"
        },
        "id": "9dddKUaND-gc",
        "outputId": "1590a8ee-dfa3-44bf-8bf0-67263b282609"
      },
      "execution_count": 29,
      "outputs": [
        {
          "output_type": "stream",
          "name": "stdout",
          "text": [
            "12/12 [==============================] - 0s 1ms/step - loss: 0.0490 - accuracy: 0.9803\n",
            "accuracy: 98.03%\n"
          ]
        }
      ]
    },
    {
      "cell_type": "code",
      "source": [
        "y_pred = model.predict(X_test)\n",
        "y_pred_binary = (y_pred > 0.5).astype(int)"
      ],
      "metadata": {
        "colab": {
          "base_uri": "https://localhost:8080/"
        },
        "id": "iofSo4sRFd3w",
        "outputId": "399e6e39-8352-4df7-b1f6-5e1fba380ba2"
      },
      "execution_count": 35,
      "outputs": [
        {
          "output_type": "stream",
          "name": "stdout",
          "text": [
            "5/5 [==============================] - 0s 2ms/step\n"
          ]
        }
      ]
    },
    {
      "cell_type": "code",
      "source": [
        "from sklearn.metrics import classification_report\n",
        "print(classification_report(y_test,y_pred_binary))"
      ],
      "metadata": {
        "colab": {
          "base_uri": "https://localhost:8080/"
        },
        "id": "fEs1JwfUEa04",
        "outputId": "f87f0628-5b54-4497-a5bf-df3f8854b1c6"
      },
      "execution_count": 36,
      "outputs": [
        {
          "output_type": "stream",
          "name": "stdout",
          "text": [
            "              precision    recall  f1-score   support\n",
            "\n",
            "         0.0       0.95      0.82      0.88        44\n",
            "         1.0       0.93      0.98      0.96       109\n",
            "\n",
            "    accuracy                           0.93       153\n",
            "   macro avg       0.94      0.90      0.92       153\n",
            "weighted avg       0.94      0.93      0.93       153\n",
            "\n"
          ]
        }
      ]
    },
    {
      "cell_type": "markdown",
      "source": [
        "recall and precision are good."
      ],
      "metadata": {
        "id": "Xl8CNiQPG_-v"
      }
    },
    {
      "cell_type": "code",
      "source": [
        "from keras.optimizers import Adam\n",
        "\n",
        "learning_rate = 0.1\n",
        "optimizer = Adam(learning_rate=learning_rate)\n",
        "# Build the ANN model\n",
        "model1 = Sequential()\n",
        "model1.add(Dense(12, activation='relu',input_shape=(X_train.shape[1],)))\n",
        "model1.add(Dense(12, activation='relu'))\n",
        "model1.add(Dense(1, activation='sigmoid'))\n",
        "\n",
        "model1.compile(loss='binary_crossentropy', optimizer=optimizer, metrics=['accuracy'])\n",
        "\n",
        "# Fit the model\n",
        "history = model1.fit(X_train, y_train, validation_split=0.2, epochs=100, batch_size=20)"
      ],
      "metadata": {
        "colab": {
          "base_uri": "https://localhost:8080/"
        },
        "id": "lyOphRgpFFOx",
        "outputId": "1f764055-eaac-4b1b-d1f7-ddda54fcb5bc"
      },
      "execution_count": 50,
      "outputs": [
        {
          "output_type": "stream",
          "name": "stdout",
          "text": [
            "Epoch 1/100\n",
            "15/15 [==============================] - 1s 10ms/step - loss: 7.3238 - accuracy: 0.6232 - val_loss: 1.1413 - val_accuracy: 0.7500\n",
            "Epoch 2/100\n",
            "15/15 [==============================] - 0s 3ms/step - loss: 0.5826 - accuracy: 0.7324 - val_loss: 1.4158 - val_accuracy: 0.7500\n",
            "Epoch 3/100\n",
            "15/15 [==============================] - 0s 4ms/step - loss: 0.5869 - accuracy: 0.7324 - val_loss: 1.4511 - val_accuracy: 0.7500\n",
            "Epoch 4/100\n",
            "15/15 [==============================] - 0s 3ms/step - loss: 0.5822 - accuracy: 0.7324 - val_loss: 1.4517 - val_accuracy: 0.7500\n",
            "Epoch 5/100\n",
            "15/15 [==============================] - 0s 5ms/step - loss: 0.5857 - accuracy: 0.7324 - val_loss: 1.4541 - val_accuracy: 0.7500\n",
            "Epoch 6/100\n",
            "15/15 [==============================] - 0s 4ms/step - loss: 0.5819 - accuracy: 0.7324 - val_loss: 1.4385 - val_accuracy: 0.7500\n",
            "Epoch 7/100\n",
            "15/15 [==============================] - 0s 3ms/step - loss: 0.5914 - accuracy: 0.7324 - val_loss: 1.4266 - val_accuracy: 0.7500\n",
            "Epoch 8/100\n",
            "15/15 [==============================] - 0s 4ms/step - loss: 0.5828 - accuracy: 0.7324 - val_loss: 1.4032 - val_accuracy: 0.7500\n",
            "Epoch 9/100\n",
            "15/15 [==============================] - 0s 3ms/step - loss: 0.5834 - accuracy: 0.7324 - val_loss: 1.3923 - val_accuracy: 0.7500\n",
            "Epoch 10/100\n",
            "15/15 [==============================] - 0s 3ms/step - loss: 0.5822 - accuracy: 0.7324 - val_loss: 1.3868 - val_accuracy: 0.7500\n",
            "Epoch 11/100\n",
            "15/15 [==============================] - 0s 4ms/step - loss: 0.5815 - accuracy: 0.7324 - val_loss: 1.3816 - val_accuracy: 0.7500\n",
            "Epoch 12/100\n",
            "15/15 [==============================] - 0s 4ms/step - loss: 0.5841 - accuracy: 0.7324 - val_loss: 1.3722 - val_accuracy: 0.7500\n",
            "Epoch 13/100\n",
            "15/15 [==============================] - 0s 3ms/step - loss: 0.5836 - accuracy: 0.7324 - val_loss: 1.3811 - val_accuracy: 0.7500\n",
            "Epoch 14/100\n",
            "15/15 [==============================] - 0s 3ms/step - loss: 0.5850 - accuracy: 0.7324 - val_loss: 1.3627 - val_accuracy: 0.7500\n",
            "Epoch 15/100\n",
            "15/15 [==============================] - 0s 4ms/step - loss: 0.5853 - accuracy: 0.7324 - val_loss: 1.3468 - val_accuracy: 0.7500\n",
            "Epoch 16/100\n",
            "15/15 [==============================] - 0s 3ms/step - loss: 0.5835 - accuracy: 0.7324 - val_loss: 1.3034 - val_accuracy: 0.7500\n",
            "Epoch 17/100\n",
            "15/15 [==============================] - 0s 4ms/step - loss: 0.5834 - accuracy: 0.7324 - val_loss: 1.2991 - val_accuracy: 0.7500\n",
            "Epoch 18/100\n",
            "15/15 [==============================] - 0s 3ms/step - loss: 0.5840 - accuracy: 0.7324 - val_loss: 1.2856 - val_accuracy: 0.7500\n",
            "Epoch 19/100\n",
            "15/15 [==============================] - 0s 3ms/step - loss: 0.5873 - accuracy: 0.7324 - val_loss: 1.2433 - val_accuracy: 0.7500\n",
            "Epoch 20/100\n",
            "15/15 [==============================] - 0s 5ms/step - loss: 0.5972 - accuracy: 0.7324 - val_loss: 1.2126 - val_accuracy: 0.7500\n",
            "Epoch 21/100\n",
            "15/15 [==============================] - 0s 4ms/step - loss: 0.6032 - accuracy: 0.7324 - val_loss: 1.0456 - val_accuracy: 0.7500\n",
            "Epoch 22/100\n",
            "15/15 [==============================] - 0s 3ms/step - loss: 0.5804 - accuracy: 0.7324 - val_loss: 1.0484 - val_accuracy: 0.7500\n",
            "Epoch 23/100\n",
            "15/15 [==============================] - 0s 4ms/step - loss: 0.5846 - accuracy: 0.7324 - val_loss: 0.9555 - val_accuracy: 0.7500\n",
            "Epoch 24/100\n",
            "15/15 [==============================] - 0s 4ms/step - loss: 0.5849 - accuracy: 0.7324 - val_loss: 0.9712 - val_accuracy: 0.7500\n",
            "Epoch 25/100\n",
            "15/15 [==============================] - 0s 3ms/step - loss: 0.5822 - accuracy: 0.7324 - val_loss: 0.9274 - val_accuracy: 0.7500\n",
            "Epoch 26/100\n",
            "15/15 [==============================] - 0s 5ms/step - loss: 0.5826 - accuracy: 0.7324 - val_loss: 0.9078 - val_accuracy: 0.7500\n",
            "Epoch 27/100\n",
            "15/15 [==============================] - 0s 4ms/step - loss: 0.5843 - accuracy: 0.7324 - val_loss: 0.9016 - val_accuracy: 0.7500\n",
            "Epoch 28/100\n",
            "15/15 [==============================] - 0s 4ms/step - loss: 0.5862 - accuracy: 0.7324 - val_loss: 0.9118 - val_accuracy: 0.7500\n",
            "Epoch 29/100\n",
            "15/15 [==============================] - 0s 3ms/step - loss: 0.5846 - accuracy: 0.7324 - val_loss: 0.8529 - val_accuracy: 0.7500\n",
            "Epoch 30/100\n",
            "15/15 [==============================] - 0s 3ms/step - loss: 0.5830 - accuracy: 0.7324 - val_loss: 0.8457 - val_accuracy: 0.7500\n",
            "Epoch 31/100\n",
            "15/15 [==============================] - 0s 4ms/step - loss: 0.5814 - accuracy: 0.7324 - val_loss: 0.8365 - val_accuracy: 0.7500\n",
            "Epoch 32/100\n",
            "15/15 [==============================] - 0s 3ms/step - loss: 0.5826 - accuracy: 0.7324 - val_loss: 0.8150 - val_accuracy: 0.7500\n",
            "Epoch 33/100\n",
            "15/15 [==============================] - 0s 4ms/step - loss: 0.5889 - accuracy: 0.7324 - val_loss: 0.8431 - val_accuracy: 0.7500\n",
            "Epoch 34/100\n",
            "15/15 [==============================] - 0s 3ms/step - loss: 0.5911 - accuracy: 0.7324 - val_loss: 0.6567 - val_accuracy: 0.7500\n",
            "Epoch 35/100\n",
            "15/15 [==============================] - 0s 3ms/step - loss: 0.5872 - accuracy: 0.7324 - val_loss: 0.6823 - val_accuracy: 0.7500\n",
            "Epoch 36/100\n",
            "15/15 [==============================] - 0s 4ms/step - loss: 0.5798 - accuracy: 0.7324 - val_loss: 0.5770 - val_accuracy: 0.7500\n",
            "Epoch 37/100\n",
            "15/15 [==============================] - 0s 4ms/step - loss: 0.5896 - accuracy: 0.7324 - val_loss: 0.5557 - val_accuracy: 0.7639\n",
            "Epoch 38/100\n",
            "15/15 [==============================] - 0s 3ms/step - loss: 0.5830 - accuracy: 0.7324 - val_loss: 0.5509 - val_accuracy: 0.7639\n",
            "Epoch 39/100\n",
            "15/15 [==============================] - 0s 3ms/step - loss: 0.5808 - accuracy: 0.7324 - val_loss: 0.5517 - val_accuracy: 0.7639\n",
            "Epoch 40/100\n",
            "15/15 [==============================] - 0s 4ms/step - loss: 0.5823 - accuracy: 0.7324 - val_loss: 0.5556 - val_accuracy: 0.7500\n",
            "Epoch 41/100\n",
            "15/15 [==============================] - 0s 3ms/step - loss: 0.5835 - accuracy: 0.7324 - val_loss: 0.5476 - val_accuracy: 0.7639\n",
            "Epoch 42/100\n",
            "15/15 [==============================] - 0s 3ms/step - loss: 0.5821 - accuracy: 0.7324 - val_loss: 0.5481 - val_accuracy: 0.7639\n",
            "Epoch 43/100\n",
            "15/15 [==============================] - 0s 3ms/step - loss: 0.5815 - accuracy: 0.7324 - val_loss: 0.5460 - val_accuracy: 0.7639\n",
            "Epoch 44/100\n",
            "15/15 [==============================] - 0s 3ms/step - loss: 0.5859 - accuracy: 0.7324 - val_loss: 0.5448 - val_accuracy: 0.7639\n",
            "Epoch 45/100\n",
            "15/15 [==============================] - 0s 3ms/step - loss: 0.5818 - accuracy: 0.7324 - val_loss: 0.5469 - val_accuracy: 0.7639\n",
            "Epoch 46/100\n",
            "15/15 [==============================] - 0s 3ms/step - loss: 0.5826 - accuracy: 0.7324 - val_loss: 0.5451 - val_accuracy: 0.7639\n",
            "Epoch 47/100\n",
            "15/15 [==============================] - 0s 4ms/step - loss: 0.5813 - accuracy: 0.7324 - val_loss: 0.5463 - val_accuracy: 0.7639\n",
            "Epoch 48/100\n",
            "15/15 [==============================] - 0s 3ms/step - loss: 0.5833 - accuracy: 0.7324 - val_loss: 0.5434 - val_accuracy: 0.7639\n",
            "Epoch 49/100\n",
            "15/15 [==============================] - 0s 3ms/step - loss: 0.5880 - accuracy: 0.7324 - val_loss: 0.5492 - val_accuracy: 0.7639\n",
            "Epoch 50/100\n",
            "15/15 [==============================] - 0s 4ms/step - loss: 0.5823 - accuracy: 0.7324 - val_loss: 0.5429 - val_accuracy: 0.7639\n",
            "Epoch 51/100\n",
            "15/15 [==============================] - 0s 4ms/step - loss: 0.5833 - accuracy: 0.7324 - val_loss: 0.5450 - val_accuracy: 0.7639\n",
            "Epoch 52/100\n",
            "15/15 [==============================] - 0s 4ms/step - loss: 0.5820 - accuracy: 0.7324 - val_loss: 0.5443 - val_accuracy: 0.7639\n",
            "Epoch 53/100\n",
            "15/15 [==============================] - 0s 3ms/step - loss: 0.5830 - accuracy: 0.7324 - val_loss: 0.5464 - val_accuracy: 0.7639\n",
            "Epoch 54/100\n",
            "15/15 [==============================] - 0s 4ms/step - loss: 0.5898 - accuracy: 0.7324 - val_loss: 0.5496 - val_accuracy: 0.7639\n",
            "Epoch 55/100\n",
            "15/15 [==============================] - 0s 5ms/step - loss: 0.5808 - accuracy: 0.7324 - val_loss: 0.5431 - val_accuracy: 0.7639\n",
            "Epoch 56/100\n",
            "15/15 [==============================] - 0s 3ms/step - loss: 0.5850 - accuracy: 0.7324 - val_loss: 0.5428 - val_accuracy: 0.7639\n",
            "Epoch 57/100\n",
            "15/15 [==============================] - 0s 4ms/step - loss: 0.5822 - accuracy: 0.7324 - val_loss: 0.5477 - val_accuracy: 0.7639\n",
            "Epoch 58/100\n",
            "15/15 [==============================] - 0s 4ms/step - loss: 0.5820 - accuracy: 0.7324 - val_loss: 0.5442 - val_accuracy: 0.7639\n",
            "Epoch 59/100\n",
            "15/15 [==============================] - 0s 4ms/step - loss: 0.5842 - accuracy: 0.7324 - val_loss: 0.5492 - val_accuracy: 0.7639\n",
            "Epoch 60/100\n",
            "15/15 [==============================] - 0s 3ms/step - loss: 0.5833 - accuracy: 0.7324 - val_loss: 0.5444 - val_accuracy: 0.7639\n",
            "Epoch 61/100\n",
            "15/15 [==============================] - 0s 3ms/step - loss: 0.5825 - accuracy: 0.7324 - val_loss: 0.5442 - val_accuracy: 0.7639\n",
            "Epoch 62/100\n",
            "15/15 [==============================] - 0s 4ms/step - loss: 0.5821 - accuracy: 0.7324 - val_loss: 0.5450 - val_accuracy: 0.7639\n",
            "Epoch 63/100\n",
            "15/15 [==============================] - 0s 5ms/step - loss: 0.5823 - accuracy: 0.7324 - val_loss: 0.5445 - val_accuracy: 0.7639\n",
            "Epoch 64/100\n",
            "15/15 [==============================] - 0s 4ms/step - loss: 0.5823 - accuracy: 0.7324 - val_loss: 0.5440 - val_accuracy: 0.7639\n",
            "Epoch 65/100\n",
            "15/15 [==============================] - 0s 4ms/step - loss: 0.5815 - accuracy: 0.7324 - val_loss: 0.5443 - val_accuracy: 0.7639\n",
            "Epoch 66/100\n",
            "15/15 [==============================] - 0s 3ms/step - loss: 0.5813 - accuracy: 0.7324 - val_loss: 0.5467 - val_accuracy: 0.7639\n",
            "Epoch 67/100\n",
            "15/15 [==============================] - 0s 4ms/step - loss: 0.5830 - accuracy: 0.7324 - val_loss: 0.5469 - val_accuracy: 0.7639\n",
            "Epoch 68/100\n",
            "15/15 [==============================] - 0s 4ms/step - loss: 0.5824 - accuracy: 0.7324 - val_loss: 0.5440 - val_accuracy: 0.7639\n",
            "Epoch 69/100\n",
            "15/15 [==============================] - 0s 3ms/step - loss: 0.5819 - accuracy: 0.7324 - val_loss: 0.5438 - val_accuracy: 0.7639\n",
            "Epoch 70/100\n",
            "15/15 [==============================] - 0s 3ms/step - loss: 0.5849 - accuracy: 0.7324 - val_loss: 0.5440 - val_accuracy: 0.7639\n",
            "Epoch 71/100\n",
            "15/15 [==============================] - 0s 5ms/step - loss: 0.5816 - accuracy: 0.7324 - val_loss: 0.5458 - val_accuracy: 0.7639\n",
            "Epoch 72/100\n",
            "15/15 [==============================] - 0s 3ms/step - loss: 0.5871 - accuracy: 0.7324 - val_loss: 0.5506 - val_accuracy: 0.7639\n",
            "Epoch 73/100\n",
            "15/15 [==============================] - 0s 3ms/step - loss: 0.5812 - accuracy: 0.7324 - val_loss: 0.5428 - val_accuracy: 0.7639\n",
            "Epoch 74/100\n",
            "15/15 [==============================] - 0s 3ms/step - loss: 0.5844 - accuracy: 0.7324 - val_loss: 0.5449 - val_accuracy: 0.7639\n",
            "Epoch 75/100\n",
            "15/15 [==============================] - 0s 3ms/step - loss: 0.5856 - accuracy: 0.7324 - val_loss: 0.5431 - val_accuracy: 0.7639\n",
            "Epoch 76/100\n",
            "15/15 [==============================] - 0s 3ms/step - loss: 0.5812 - accuracy: 0.7324 - val_loss: 0.5494 - val_accuracy: 0.7639\n",
            "Epoch 77/100\n",
            "15/15 [==============================] - 0s 3ms/step - loss: 0.5874 - accuracy: 0.7324 - val_loss: 0.5450 - val_accuracy: 0.7639\n",
            "Epoch 78/100\n",
            "15/15 [==============================] - 0s 3ms/step - loss: 0.5838 - accuracy: 0.7324 - val_loss: 0.5431 - val_accuracy: 0.7639\n",
            "Epoch 79/100\n",
            "15/15 [==============================] - 0s 3ms/step - loss: 0.5829 - accuracy: 0.7324 - val_loss: 0.5466 - val_accuracy: 0.7639\n",
            "Epoch 80/100\n",
            "15/15 [==============================] - 0s 4ms/step - loss: 0.5830 - accuracy: 0.7324 - val_loss: 0.5436 - val_accuracy: 0.7639\n",
            "Epoch 81/100\n",
            "15/15 [==============================] - 0s 3ms/step - loss: 0.5820 - accuracy: 0.7324 - val_loss: 0.5447 - val_accuracy: 0.7639\n",
            "Epoch 82/100\n",
            "15/15 [==============================] - 0s 3ms/step - loss: 0.5840 - accuracy: 0.7324 - val_loss: 0.5441 - val_accuracy: 0.7639\n",
            "Epoch 83/100\n",
            "15/15 [==============================] - 0s 3ms/step - loss: 0.5840 - accuracy: 0.7324 - val_loss: 0.5440 - val_accuracy: 0.7639\n",
            "Epoch 84/100\n",
            "15/15 [==============================] - 0s 3ms/step - loss: 0.5812 - accuracy: 0.7324 - val_loss: 0.5431 - val_accuracy: 0.7639\n",
            "Epoch 85/100\n",
            "15/15 [==============================] - 0s 3ms/step - loss: 0.5819 - accuracy: 0.7324 - val_loss: 0.5449 - val_accuracy: 0.7639\n",
            "Epoch 86/100\n",
            "15/15 [==============================] - 0s 3ms/step - loss: 0.5832 - accuracy: 0.7324 - val_loss: 0.5445 - val_accuracy: 0.7639\n",
            "Epoch 87/100\n",
            "15/15 [==============================] - 0s 3ms/step - loss: 0.5851 - accuracy: 0.7324 - val_loss: 0.5428 - val_accuracy: 0.7639\n",
            "Epoch 88/100\n",
            "15/15 [==============================] - 0s 3ms/step - loss: 0.5827 - accuracy: 0.7324 - val_loss: 0.5496 - val_accuracy: 0.7639\n",
            "Epoch 89/100\n",
            "15/15 [==============================] - 0s 3ms/step - loss: 0.5882 - accuracy: 0.7324 - val_loss: 0.5451 - val_accuracy: 0.7639\n",
            "Epoch 90/100\n",
            "15/15 [==============================] - 0s 4ms/step - loss: 0.5820 - accuracy: 0.7324 - val_loss: 0.5467 - val_accuracy: 0.7639\n",
            "Epoch 91/100\n",
            "15/15 [==============================] - 0s 3ms/step - loss: 0.5825 - accuracy: 0.7324 - val_loss: 0.5440 - val_accuracy: 0.7639\n",
            "Epoch 92/100\n",
            "15/15 [==============================] - 0s 3ms/step - loss: 0.5821 - accuracy: 0.7324 - val_loss: 0.5447 - val_accuracy: 0.7639\n",
            "Epoch 93/100\n",
            "15/15 [==============================] - 0s 3ms/step - loss: 0.5832 - accuracy: 0.7324 - val_loss: 0.5485 - val_accuracy: 0.7639\n",
            "Epoch 94/100\n",
            "15/15 [==============================] - 0s 3ms/step - loss: 0.5807 - accuracy: 0.7324 - val_loss: 0.5432 - val_accuracy: 0.7639\n",
            "Epoch 95/100\n",
            "15/15 [==============================] - 0s 3ms/step - loss: 0.5873 - accuracy: 0.7324 - val_loss: 0.5436 - val_accuracy: 0.7639\n",
            "Epoch 96/100\n",
            "15/15 [==============================] - 0s 4ms/step - loss: 0.5840 - accuracy: 0.7324 - val_loss: 0.5503 - val_accuracy: 0.7639\n",
            "Epoch 97/100\n",
            "15/15 [==============================] - 0s 3ms/step - loss: 0.5824 - accuracy: 0.7324 - val_loss: 0.5445 - val_accuracy: 0.7639\n",
            "Epoch 98/100\n",
            "15/15 [==============================] - 0s 3ms/step - loss: 0.5857 - accuracy: 0.7324 - val_loss: 0.5428 - val_accuracy: 0.7639\n",
            "Epoch 99/100\n",
            "15/15 [==============================] - 0s 3ms/step - loss: 0.5825 - accuracy: 0.7324 - val_loss: 0.5440 - val_accuracy: 0.7639\n",
            "Epoch 100/100\n",
            "15/15 [==============================] - 0s 3ms/step - loss: 0.5821 - accuracy: 0.7324 - val_loss: 0.5461 - val_accuracy: 0.7639\n"
          ]
        }
      ]
    },
    {
      "cell_type": "code",
      "source": [
        "# evaluate the model\n",
        "scores = model1.evaluate(X_test, y_test)\n",
        "print(\"%s: %.2f%%\" % (model.metrics_names[1], scores[1]*100))"
      ],
      "metadata": {
        "colab": {
          "base_uri": "https://localhost:8080/"
        },
        "id": "EcxEjlXEKViX",
        "outputId": "fa6d0f00-312a-442d-ae20-902703ae111a"
      },
      "execution_count": 52,
      "outputs": [
        {
          "output_type": "stream",
          "name": "stdout",
          "text": [
            "5/5 [==============================] - 0s 3ms/step - loss: 0.5920 - accuracy: 0.7190\n",
            "accuracy: 71.90%\n"
          ]
        }
      ]
    },
    {
      "cell_type": "code",
      "source": [
        "# evaluate the model\n",
        "scores = model1.evaluate(X_train, y_train)\n",
        "print(\"%s: %.2f%%\" % (model.metrics_names[1], scores[1]*100))"
      ],
      "metadata": {
        "colab": {
          "base_uri": "https://localhost:8080/"
        },
        "id": "USk6YMQYKpTc",
        "outputId": "84547a1c-b0e6-420b-ea8c-aa26ced7e28a"
      },
      "execution_count": 53,
      "outputs": [
        {
          "output_type": "stream",
          "name": "stdout",
          "text": [
            "12/12 [==============================] - 0s 1ms/step - loss: 0.5740 - accuracy: 0.7388\n",
            "accuracy: 73.88%\n"
          ]
        }
      ]
    },
    {
      "cell_type": "code",
      "source": [
        "y_pred = model1.predict(X_test)\n",
        "y_pred_binary = (y_pred > 0.5).astype(int)"
      ],
      "metadata": {
        "colab": {
          "base_uri": "https://localhost:8080/"
        },
        "id": "GhhCqxQHKx23",
        "outputId": "d8a14d9e-c4a0-4098-9f28-5208946854a0"
      },
      "execution_count": 54,
      "outputs": [
        {
          "output_type": "stream",
          "name": "stdout",
          "text": [
            "5/5 [==============================] - 0s 2ms/step\n"
          ]
        }
      ]
    },
    {
      "cell_type": "code",
      "source": [
        "print(classification_report(y_test,y_pred_binary))"
      ],
      "metadata": {
        "colab": {
          "base_uri": "https://localhost:8080/"
        },
        "id": "-1nUj6WLK4_f",
        "outputId": "a614bb33-cdf9-48f2-cf52-dcd0af1daed4"
      },
      "execution_count": 55,
      "outputs": [
        {
          "output_type": "stream",
          "name": "stdout",
          "text": [
            "              precision    recall  f1-score   support\n",
            "\n",
            "         0.0       1.00      0.02      0.04        44\n",
            "         1.0       0.72      1.00      0.84       109\n",
            "\n",
            "    accuracy                           0.72       153\n",
            "   macro avg       0.86      0.51      0.44       153\n",
            "weighted avg       0.80      0.72      0.61       153\n",
            "\n"
          ]
        }
      ]
    },
    {
      "cell_type": "markdown",
      "source": [
        "with learning rate 0.1 accuracy decreased"
      ],
      "metadata": {
        "id": "eEoTiwADL7po"
      }
    },
    {
      "cell_type": "code",
      "source": [
        "learning_rate = 0.001\n",
        "optimizer = Adam(learning_rate=learning_rate)\n",
        "# Build the ANN model\n",
        "model2 = Sequential()\n",
        "model2.add(Dense(12, activation='relu',input_shape=(X_train.shape[1],)))\n",
        "model2.add(Dense(12, activation='relu'))\n",
        "model2.add(Dense(1, activation='sigmoid'))\n",
        "\n",
        "model2.compile(loss='binary_crossentropy', optimizer=optimizer, metrics=['accuracy'])\n",
        "\n",
        "history = model2.fit(X_train, y_train, validation_split=0.2, epochs=100, batch_size=20)"
      ],
      "metadata": {
        "colab": {
          "base_uri": "https://localhost:8080/"
        },
        "id": "572gz7ivMJS2",
        "outputId": "e46f78fd-d985-483a-fcc2-88991acd7167"
      },
      "execution_count": 57,
      "outputs": [
        {
          "output_type": "stream",
          "name": "stdout",
          "text": [
            "Epoch 1/100\n",
            "15/15 [==============================] - 0s 10ms/step - loss: 3.1071 - accuracy: 0.5387 - val_loss: 2.0083 - val_accuracy: 0.7222\n",
            "Epoch 2/100\n",
            "15/15 [==============================] - 0s 3ms/step - loss: 1.4650 - accuracy: 0.6901 - val_loss: 1.7282 - val_accuracy: 0.6667\n",
            "Epoch 3/100\n",
            "15/15 [==============================] - 0s 4ms/step - loss: 1.2390 - accuracy: 0.7183 - val_loss: 1.3387 - val_accuracy: 0.7222\n",
            "Epoch 4/100\n",
            "15/15 [==============================] - 0s 3ms/step - loss: 0.9891 - accuracy: 0.7077 - val_loss: 1.2054 - val_accuracy: 0.6389\n",
            "Epoch 5/100\n",
            "15/15 [==============================] - 0s 3ms/step - loss: 0.8264 - accuracy: 0.6937 - val_loss: 1.0026 - val_accuracy: 0.7083\n",
            "Epoch 6/100\n",
            "15/15 [==============================] - 0s 3ms/step - loss: 0.7344 - accuracy: 0.7641 - val_loss: 1.0301 - val_accuracy: 0.6528\n",
            "Epoch 7/100\n",
            "15/15 [==============================] - 0s 4ms/step - loss: 0.7136 - accuracy: 0.7535 - val_loss: 0.7719 - val_accuracy: 0.6667\n",
            "Epoch 8/100\n",
            "15/15 [==============================] - 0s 4ms/step - loss: 0.6540 - accuracy: 0.6866 - val_loss: 0.7055 - val_accuracy: 0.7778\n",
            "Epoch 9/100\n",
            "15/15 [==============================] - 0s 5ms/step - loss: 0.5374 - accuracy: 0.7711 - val_loss: 0.5940 - val_accuracy: 0.7639\n",
            "Epoch 10/100\n",
            "15/15 [==============================] - 0s 4ms/step - loss: 0.4489 - accuracy: 0.8239 - val_loss: 0.5808 - val_accuracy: 0.7361\n",
            "Epoch 11/100\n",
            "15/15 [==============================] - 0s 4ms/step - loss: 0.5364 - accuracy: 0.7782 - val_loss: 0.4545 - val_accuracy: 0.7639\n",
            "Epoch 12/100\n",
            "15/15 [==============================] - 0s 4ms/step - loss: 0.3879 - accuracy: 0.8415 - val_loss: 0.5757 - val_accuracy: 0.6944\n",
            "Epoch 13/100\n",
            "15/15 [==============================] - 0s 3ms/step - loss: 0.5108 - accuracy: 0.7852 - val_loss: 0.3706 - val_accuracy: 0.8333\n",
            "Epoch 14/100\n",
            "15/15 [==============================] - 0s 4ms/step - loss: 0.3522 - accuracy: 0.8345 - val_loss: 0.3158 - val_accuracy: 0.8611\n",
            "Epoch 15/100\n",
            "15/15 [==============================] - 0s 3ms/step - loss: 0.2914 - accuracy: 0.8732 - val_loss: 0.3022 - val_accuracy: 0.9306\n",
            "Epoch 16/100\n",
            "15/15 [==============================] - 0s 3ms/step - loss: 0.2587 - accuracy: 0.9014 - val_loss: 0.2760 - val_accuracy: 0.8750\n",
            "Epoch 17/100\n",
            "15/15 [==============================] - 0s 4ms/step - loss: 0.2674 - accuracy: 0.8732 - val_loss: 0.2808 - val_accuracy: 0.9167\n",
            "Epoch 18/100\n",
            "15/15 [==============================] - 0s 3ms/step - loss: 0.2815 - accuracy: 0.8979 - val_loss: 0.2884 - val_accuracy: 0.9167\n",
            "Epoch 19/100\n",
            "15/15 [==============================] - 0s 4ms/step - loss: 0.2480 - accuracy: 0.9085 - val_loss: 0.3151 - val_accuracy: 0.9167\n",
            "Epoch 20/100\n",
            "15/15 [==============================] - 0s 3ms/step - loss: 0.2306 - accuracy: 0.9120 - val_loss: 0.2516 - val_accuracy: 0.8750\n",
            "Epoch 21/100\n",
            "15/15 [==============================] - 0s 4ms/step - loss: 0.2191 - accuracy: 0.9120 - val_loss: 0.2350 - val_accuracy: 0.8750\n",
            "Epoch 22/100\n",
            "15/15 [==============================] - 0s 3ms/step - loss: 0.2197 - accuracy: 0.9190 - val_loss: 0.2644 - val_accuracy: 0.8750\n",
            "Epoch 23/100\n",
            "15/15 [==============================] - 0s 3ms/step - loss: 0.2287 - accuracy: 0.9085 - val_loss: 0.2277 - val_accuracy: 0.8889\n",
            "Epoch 24/100\n",
            "15/15 [==============================] - 0s 3ms/step - loss: 0.2338 - accuracy: 0.9014 - val_loss: 0.2614 - val_accuracy: 0.8750\n",
            "Epoch 25/100\n",
            "15/15 [==============================] - 0s 3ms/step - loss: 0.2145 - accuracy: 0.9190 - val_loss: 0.2241 - val_accuracy: 0.8750\n",
            "Epoch 26/100\n",
            "15/15 [==============================] - 0s 3ms/step - loss: 0.2090 - accuracy: 0.9155 - val_loss: 0.2318 - val_accuracy: 0.8889\n",
            "Epoch 27/100\n",
            "15/15 [==============================] - 0s 3ms/step - loss: 0.2049 - accuracy: 0.9155 - val_loss: 0.2215 - val_accuracy: 0.8750\n",
            "Epoch 28/100\n",
            "15/15 [==============================] - 0s 3ms/step - loss: 0.2084 - accuracy: 0.9296 - val_loss: 0.2334 - val_accuracy: 0.9444\n",
            "Epoch 29/100\n",
            "15/15 [==============================] - 0s 3ms/step - loss: 0.1971 - accuracy: 0.9331 - val_loss: 0.2361 - val_accuracy: 0.9444\n",
            "Epoch 30/100\n",
            "15/15 [==============================] - 0s 3ms/step - loss: 0.1881 - accuracy: 0.9331 - val_loss: 0.2123 - val_accuracy: 0.9444\n",
            "Epoch 31/100\n",
            "15/15 [==============================] - 0s 4ms/step - loss: 0.1765 - accuracy: 0.9366 - val_loss: 0.2279 - val_accuracy: 0.9444\n",
            "Epoch 32/100\n",
            "15/15 [==============================] - 0s 3ms/step - loss: 0.1908 - accuracy: 0.9296 - val_loss: 0.2033 - val_accuracy: 0.9167\n",
            "Epoch 33/100\n",
            "15/15 [==============================] - 0s 3ms/step - loss: 0.1797 - accuracy: 0.9437 - val_loss: 0.2199 - val_accuracy: 0.9583\n",
            "Epoch 34/100\n",
            "15/15 [==============================] - 0s 4ms/step - loss: 0.1990 - accuracy: 0.9261 - val_loss: 0.2311 - val_accuracy: 0.9583\n",
            "Epoch 35/100\n",
            "15/15 [==============================] - 0s 3ms/step - loss: 0.1753 - accuracy: 0.9366 - val_loss: 0.2074 - val_accuracy: 0.9583\n",
            "Epoch 36/100\n",
            "15/15 [==============================] - 0s 3ms/step - loss: 0.1607 - accuracy: 0.9542 - val_loss: 0.1823 - val_accuracy: 0.9167\n",
            "Epoch 37/100\n",
            "15/15 [==============================] - 0s 3ms/step - loss: 0.1559 - accuracy: 0.9542 - val_loss: 0.1764 - val_accuracy: 0.9028\n",
            "Epoch 38/100\n",
            "15/15 [==============================] - 0s 4ms/step - loss: 0.1595 - accuracy: 0.9472 - val_loss: 0.1980 - val_accuracy: 0.9583\n",
            "Epoch 39/100\n",
            "15/15 [==============================] - 0s 3ms/step - loss: 0.1679 - accuracy: 0.9577 - val_loss: 0.1711 - val_accuracy: 0.9583\n",
            "Epoch 40/100\n",
            "15/15 [==============================] - 0s 4ms/step - loss: 0.1521 - accuracy: 0.9577 - val_loss: 0.1742 - val_accuracy: 0.8889\n",
            "Epoch 41/100\n",
            "15/15 [==============================] - 0s 4ms/step - loss: 0.1636 - accuracy: 0.9401 - val_loss: 0.1758 - val_accuracy: 0.9028\n",
            "Epoch 42/100\n",
            "15/15 [==============================] - 0s 3ms/step - loss: 0.1385 - accuracy: 0.9718 - val_loss: 0.1846 - val_accuracy: 0.9167\n",
            "Epoch 43/100\n",
            "15/15 [==============================] - 0s 4ms/step - loss: 0.1592 - accuracy: 0.9507 - val_loss: 0.1779 - val_accuracy: 0.9167\n",
            "Epoch 44/100\n",
            "15/15 [==============================] - 0s 3ms/step - loss: 0.1331 - accuracy: 0.9577 - val_loss: 0.1528 - val_accuracy: 0.9028\n",
            "Epoch 45/100\n",
            "15/15 [==============================] - 0s 5ms/step - loss: 0.1563 - accuracy: 0.9507 - val_loss: 0.1809 - val_accuracy: 0.9167\n",
            "Epoch 46/100\n",
            "15/15 [==============================] - 0s 3ms/step - loss: 0.1794 - accuracy: 0.9401 - val_loss: 0.2846 - val_accuracy: 0.9028\n",
            "Epoch 47/100\n",
            "15/15 [==============================] - 0s 3ms/step - loss: 0.2052 - accuracy: 0.9261 - val_loss: 0.1719 - val_accuracy: 0.9028\n",
            "Epoch 48/100\n",
            "15/15 [==============================] - 0s 4ms/step - loss: 0.1321 - accuracy: 0.9577 - val_loss: 0.1447 - val_accuracy: 0.9583\n",
            "Epoch 49/100\n",
            "15/15 [==============================] - 0s 3ms/step - loss: 0.1235 - accuracy: 0.9754 - val_loss: 0.1385 - val_accuracy: 0.9583\n",
            "Epoch 50/100\n",
            "15/15 [==============================] - 0s 3ms/step - loss: 0.1569 - accuracy: 0.9542 - val_loss: 0.1403 - val_accuracy: 0.9583\n",
            "Epoch 51/100\n",
            "15/15 [==============================] - 0s 4ms/step - loss: 0.1236 - accuracy: 0.9683 - val_loss: 0.1674 - val_accuracy: 0.9028\n",
            "Epoch 52/100\n",
            "15/15 [==============================] - 0s 4ms/step - loss: 0.1276 - accuracy: 0.9613 - val_loss: 0.1381 - val_accuracy: 0.9583\n",
            "Epoch 53/100\n",
            "15/15 [==============================] - 0s 3ms/step - loss: 0.1165 - accuracy: 0.9683 - val_loss: 0.1303 - val_accuracy: 0.9583\n",
            "Epoch 54/100\n",
            "15/15 [==============================] - 0s 3ms/step - loss: 0.1156 - accuracy: 0.9718 - val_loss: 0.1329 - val_accuracy: 0.9583\n",
            "Epoch 55/100\n",
            "15/15 [==============================] - 0s 4ms/step - loss: 0.1296 - accuracy: 0.9648 - val_loss: 0.1351 - val_accuracy: 0.9722\n",
            "Epoch 56/100\n",
            "15/15 [==============================] - 0s 3ms/step - loss: 0.1210 - accuracy: 0.9683 - val_loss: 0.1552 - val_accuracy: 0.9583\n",
            "Epoch 57/100\n",
            "15/15 [==============================] - 0s 3ms/step - loss: 0.1142 - accuracy: 0.9683 - val_loss: 0.1288 - val_accuracy: 0.9444\n",
            "Epoch 58/100\n",
            "15/15 [==============================] - 0s 4ms/step - loss: 0.1031 - accuracy: 0.9718 - val_loss: 0.1244 - val_accuracy: 0.9583\n",
            "Epoch 59/100\n",
            "15/15 [==============================] - 0s 3ms/step - loss: 0.1032 - accuracy: 0.9683 - val_loss: 0.1294 - val_accuracy: 0.9722\n",
            "Epoch 60/100\n",
            "15/15 [==============================] - 0s 4ms/step - loss: 0.1020 - accuracy: 0.9683 - val_loss: 0.1216 - val_accuracy: 0.9722\n",
            "Epoch 61/100\n",
            "15/15 [==============================] - 0s 4ms/step - loss: 0.1046 - accuracy: 0.9613 - val_loss: 0.1214 - val_accuracy: 0.9722\n",
            "Epoch 62/100\n",
            "15/15 [==============================] - 0s 4ms/step - loss: 0.0955 - accuracy: 0.9754 - val_loss: 0.1291 - val_accuracy: 0.9306\n",
            "Epoch 63/100\n",
            "15/15 [==============================] - 0s 3ms/step - loss: 0.1109 - accuracy: 0.9648 - val_loss: 0.1800 - val_accuracy: 0.9167\n",
            "Epoch 64/100\n",
            "15/15 [==============================] - 0s 4ms/step - loss: 0.1144 - accuracy: 0.9718 - val_loss: 0.1634 - val_accuracy: 0.9167\n",
            "Epoch 65/100\n",
            "15/15 [==============================] - 0s 4ms/step - loss: 0.1217 - accuracy: 0.9613 - val_loss: 0.1393 - val_accuracy: 0.9028\n",
            "Epoch 66/100\n",
            "15/15 [==============================] - 0s 3ms/step - loss: 0.1083 - accuracy: 0.9613 - val_loss: 0.1150 - val_accuracy: 0.9583\n",
            "Epoch 67/100\n",
            "15/15 [==============================] - 0s 4ms/step - loss: 0.0967 - accuracy: 0.9754 - val_loss: 0.1550 - val_accuracy: 0.9167\n",
            "Epoch 68/100\n",
            "15/15 [==============================] - 0s 3ms/step - loss: 0.1024 - accuracy: 0.9683 - val_loss: 0.1262 - val_accuracy: 0.9167\n",
            "Epoch 69/100\n",
            "15/15 [==============================] - 0s 4ms/step - loss: 0.0952 - accuracy: 0.9683 - val_loss: 0.1074 - val_accuracy: 0.9722\n",
            "Epoch 70/100\n",
            "15/15 [==============================] - 0s 3ms/step - loss: 0.0960 - accuracy: 0.9754 - val_loss: 0.1508 - val_accuracy: 0.9167\n",
            "Epoch 71/100\n",
            "15/15 [==============================] - 0s 3ms/step - loss: 0.1079 - accuracy: 0.9683 - val_loss: 0.1052 - val_accuracy: 0.9583\n",
            "Epoch 72/100\n",
            "15/15 [==============================] - 0s 3ms/step - loss: 0.0977 - accuracy: 0.9683 - val_loss: 0.1060 - val_accuracy: 0.9722\n",
            "Epoch 73/100\n",
            "15/15 [==============================] - 0s 4ms/step - loss: 0.0873 - accuracy: 0.9754 - val_loss: 0.1024 - val_accuracy: 0.9722\n",
            "Epoch 74/100\n",
            "15/15 [==============================] - 0s 4ms/step - loss: 0.0784 - accuracy: 0.9718 - val_loss: 0.1788 - val_accuracy: 0.9583\n",
            "Epoch 75/100\n",
            "15/15 [==============================] - 0s 3ms/step - loss: 0.1165 - accuracy: 0.9648 - val_loss: 0.1015 - val_accuracy: 0.9583\n",
            "Epoch 76/100\n",
            "15/15 [==============================] - 0s 4ms/step - loss: 0.0853 - accuracy: 0.9754 - val_loss: 0.1085 - val_accuracy: 0.9722\n",
            "Epoch 77/100\n",
            "15/15 [==============================] - 0s 4ms/step - loss: 0.1037 - accuracy: 0.9754 - val_loss: 0.0951 - val_accuracy: 0.9722\n",
            "Epoch 78/100\n",
            "15/15 [==============================] - 0s 3ms/step - loss: 0.0826 - accuracy: 0.9789 - val_loss: 0.1061 - val_accuracy: 0.9722\n",
            "Epoch 79/100\n",
            "15/15 [==============================] - 0s 4ms/step - loss: 0.0956 - accuracy: 0.9718 - val_loss: 0.1078 - val_accuracy: 0.9583\n",
            "Epoch 80/100\n",
            "15/15 [==============================] - 0s 3ms/step - loss: 0.0895 - accuracy: 0.9718 - val_loss: 0.0909 - val_accuracy: 0.9722\n",
            "Epoch 81/100\n",
            "15/15 [==============================] - 0s 3ms/step - loss: 0.0844 - accuracy: 0.9718 - val_loss: 0.0917 - val_accuracy: 0.9861\n",
            "Epoch 82/100\n",
            "15/15 [==============================] - 0s 3ms/step - loss: 0.0866 - accuracy: 0.9754 - val_loss: 0.1062 - val_accuracy: 0.9722\n",
            "Epoch 83/100\n",
            "15/15 [==============================] - 0s 3ms/step - loss: 0.0851 - accuracy: 0.9789 - val_loss: 0.1002 - val_accuracy: 0.9722\n",
            "Epoch 84/100\n",
            "15/15 [==============================] - 0s 3ms/step - loss: 0.0875 - accuracy: 0.9754 - val_loss: 0.0974 - val_accuracy: 0.9722\n",
            "Epoch 85/100\n",
            "15/15 [==============================] - 0s 3ms/step - loss: 0.0747 - accuracy: 0.9718 - val_loss: 0.0864 - val_accuracy: 0.9722\n",
            "Epoch 86/100\n",
            "15/15 [==============================] - 0s 3ms/step - loss: 0.0859 - accuracy: 0.9718 - val_loss: 0.1188 - val_accuracy: 0.9861\n",
            "Epoch 87/100\n",
            "15/15 [==============================] - 0s 3ms/step - loss: 0.0987 - accuracy: 0.9577 - val_loss: 0.1383 - val_accuracy: 0.9722\n",
            "Epoch 88/100\n",
            "15/15 [==============================] - 0s 3ms/step - loss: 0.1315 - accuracy: 0.9577 - val_loss: 0.1291 - val_accuracy: 0.9861\n",
            "Epoch 89/100\n",
            "15/15 [==============================] - 0s 3ms/step - loss: 0.0704 - accuracy: 0.9894 - val_loss: 0.0882 - val_accuracy: 0.9722\n",
            "Epoch 90/100\n",
            "15/15 [==============================] - 0s 3ms/step - loss: 0.0702 - accuracy: 0.9859 - val_loss: 0.1305 - val_accuracy: 0.9167\n",
            "Epoch 91/100\n",
            "15/15 [==============================] - 0s 3ms/step - loss: 0.0810 - accuracy: 0.9789 - val_loss: 0.1019 - val_accuracy: 0.9722\n",
            "Epoch 92/100\n",
            "15/15 [==============================] - 0s 4ms/step - loss: 0.0869 - accuracy: 0.9648 - val_loss: 0.0775 - val_accuracy: 0.9861\n",
            "Epoch 93/100\n",
            "15/15 [==============================] - 0s 4ms/step - loss: 0.0698 - accuracy: 0.9859 - val_loss: 0.0856 - val_accuracy: 0.9722\n",
            "Epoch 94/100\n",
            "15/15 [==============================] - 0s 4ms/step - loss: 0.0773 - accuracy: 0.9718 - val_loss: 0.0814 - val_accuracy: 0.9861\n",
            "Epoch 95/100\n",
            "15/15 [==============================] - 0s 4ms/step - loss: 0.0644 - accuracy: 0.9789 - val_loss: 0.0900 - val_accuracy: 0.9722\n",
            "Epoch 96/100\n",
            "15/15 [==============================] - 0s 3ms/step - loss: 0.0706 - accuracy: 0.9754 - val_loss: 0.0736 - val_accuracy: 0.9861\n",
            "Epoch 97/100\n",
            "15/15 [==============================] - 0s 4ms/step - loss: 0.0736 - accuracy: 0.9789 - val_loss: 0.1377 - val_accuracy: 0.9861\n",
            "Epoch 98/100\n",
            "15/15 [==============================] - 0s 3ms/step - loss: 0.1004 - accuracy: 0.9648 - val_loss: 0.0769 - val_accuracy: 0.9722\n",
            "Epoch 99/100\n",
            "15/15 [==============================] - 0s 5ms/step - loss: 0.0779 - accuracy: 0.9718 - val_loss: 0.0796 - val_accuracy: 1.0000\n",
            "Epoch 100/100\n",
            "15/15 [==============================] - 0s 4ms/step - loss: 0.0678 - accuracy: 0.9754 - val_loss: 0.0745 - val_accuracy: 0.9861\n"
          ]
        }
      ]
    },
    {
      "cell_type": "code",
      "source": [
        "# evaluate the model\n",
        "scores = model2.evaluate(X_test, y_test)\n",
        "print(\"%s: %.2f%%\" % (model2.metrics_names[1], scores[1]*100))"
      ],
      "metadata": {
        "colab": {
          "base_uri": "https://localhost:8080/"
        },
        "id": "ZRhNC2h2O6zC",
        "outputId": "31d4d012-a808-49d4-9a09-2d9547678200"
      },
      "execution_count": 59,
      "outputs": [
        {
          "output_type": "stream",
          "name": "stdout",
          "text": [
            "5/5 [==============================] - 0s 2ms/step - loss: 0.1473 - accuracy: 0.9477\n",
            "accuracy: 94.77%\n"
          ]
        }
      ]
    },
    {
      "cell_type": "code",
      "source": [
        "# evaluate the model\n",
        "scores = model2.evaluate(X_train, y_train)\n",
        "print(\"%s: %.2f%%\" % (model2.metrics_names[1], scores[1]*100))"
      ],
      "metadata": {
        "colab": {
          "base_uri": "https://localhost:8080/"
        },
        "id": "PMu--xngPTGB",
        "outputId": "6b8f38de-a10e-46b6-c81d-d829d47c487e"
      },
      "execution_count": 60,
      "outputs": [
        {
          "output_type": "stream",
          "name": "stdout",
          "text": [
            "12/12 [==============================] - 0s 1ms/step - loss: 0.0679 - accuracy: 0.9831\n",
            "accuracy: 98.31%\n"
          ]
        }
      ]
    },
    {
      "cell_type": "code",
      "source": [
        "y_pred = model2.predict(X_test)\n",
        "y_pred_binary = (y_pred > 0.5).astype(int)"
      ],
      "metadata": {
        "colab": {
          "base_uri": "https://localhost:8080/"
        },
        "id": "CQDjM5aUPjPY",
        "outputId": "446a455f-f1aa-42eb-df3e-3ad15a4466c3"
      },
      "execution_count": 61,
      "outputs": [
        {
          "output_type": "stream",
          "name": "stdout",
          "text": [
            "5/5 [==============================] - 0s 2ms/step\n"
          ]
        }
      ]
    },
    {
      "cell_type": "code",
      "source": [
        "print(classification_report(y_test,y_pred_binary))"
      ],
      "metadata": {
        "colab": {
          "base_uri": "https://localhost:8080/"
        },
        "id": "5LaRdCSzPs-c",
        "outputId": "4df764b9-f6ad-4a7a-b9de-2032d043c614"
      },
      "execution_count": 62,
      "outputs": [
        {
          "output_type": "stream",
          "name": "stdout",
          "text": [
            "              precision    recall  f1-score   support\n",
            "\n",
            "         0.0       0.95      0.86      0.90        44\n",
            "         1.0       0.95      0.98      0.96       109\n",
            "\n",
            "    accuracy                           0.95       153\n",
            "   macro avg       0.95      0.92      0.93       153\n",
            "weighted avg       0.95      0.95      0.95       153\n",
            "\n"
          ]
        }
      ]
    },
    {
      "cell_type": "code",
      "source": [
        "# list all data in history\n",
        "history.history.keys()"
      ],
      "metadata": {
        "colab": {
          "base_uri": "https://localhost:8080/"
        },
        "id": "j13ijjzpP5Mv",
        "outputId": "cf2b3402-d7d4-4159-9a35-506eff2f2d4a"
      },
      "execution_count": 63,
      "outputs": [
        {
          "output_type": "execute_result",
          "data": {
            "text/plain": [
              "dict_keys(['loss', 'accuracy', 'val_loss', 'val_accuracy'])"
            ]
          },
          "metadata": {},
          "execution_count": 63
        }
      ]
    },
    {
      "cell_type": "code",
      "source": [
        "# summarize history for accuracy\n",
        "import matplotlib.pyplot as plt\n",
        "plt.plot(history.history['accuracy'])\n",
        "plt.plot(history.history['val_accuracy'])\n",
        "plt.title('model accuracy')\n",
        "plt.ylabel('accuracy')\n",
        "plt.xlabel('epoch')\n",
        "plt.legend(['train', 'test'], loc='upper left')\n",
        "plt.show()\n",
        "# summarize history for loss\n",
        "plt.plot(history.history['loss'])\n",
        "plt.plot(history.history['val_loss'])\n",
        "plt.title('model loss')\n",
        "plt.ylabel('loss')\n",
        "plt.xlabel('epoch')\n",
        "plt.legend(['train', 'test'], loc='upper left')\n",
        "plt.show()"
      ],
      "metadata": {
        "colab": {
          "base_uri": "https://localhost:8080/",
          "height": 927
        },
        "id": "_xTjKI-bQNft",
        "outputId": "874dccab-aa40-423a-9bcd-68f83f2404cf"
      },
      "execution_count": 64,
      "outputs": [
        {
          "output_type": "display_data",
          "data": {
            "text/plain": [
              "<Figure size 640x480 with 1 Axes>"
            ],
            "image/png": "[encoded data removed]"
          },
          "metadata": {}
        },
        {
          "output_type": "display_data",
          "data": {
            "text/plain": [
              "<Figure size 640x480 with 1 Axes>"
            ],
            "image/png": "[encoded data removed]"
          },
          "metadata": {}
        }
      ]
    },
    {
      "cell_type": "code",
      "source": [],
      "metadata": {
        "id": "y2_Q7XNgQWck"
      },
      "execution_count": null,
      "outputs": []
    }
  ]
}